{
 "cells": [
  {
   "cell_type": "markdown",
   "metadata": {
    "colab_type": "text",
    "id": "l3ZEgl7t28Ee"
   },
   "source": [
    "# Homework 1\n",
    "## Introduction\n",
    "### Important dates\n",
    "* Homework release: Thursday, 3rd October 2019\n",
    "* **Homework due**: Wednesday, 16th October 2019 (23:59 hours, 11:59 PM)\n",
    "* Peer review due: Wednesday, 23rd October 2019 (23:59 hours, 11:59 PM)\n",
    "* Grading release: Wednesday, 30th October 2019\n",
    "\n",
    "### Description\n",
    "\n",
    "The data you'll be working with comes from multiple sources. The main data source will be [DBLP](https://dblp.uni-trier.de/), a database of publications from major computer science journals and conferences. A subset of DBLP, which you will use in this assignment, is provided to you via a [google drive folder](https://drive.google.com/file/d/1Kci8joML74tCSzuBbhxtd1ylR4f0dlm6/view). Later on, you will enrich the DBLP data with a dataset on conference rankings and with the proceedings of the [NIPS conference](https://nips.cc/) [1] ('proceedings' is another word for the set of papers published at an academic conference). After loading and cleaning the data, you will answer various questions about its contents.\n",
    "\n",
    "**Some rules:**\n",
    "- You are allowed to use any built-in Python library that comes with Anaconda. If you want to use an external library, you have to justify your choice.\n",
    "- Make sure you use the data folder provided in the repository in *read-only* mode.\n",
    "- Be sure to provide explanations for your answers. A notebook that only has code cells will not suffice.\n",
    "- Also, be sure to *hand in a fully-run and evaluated notebook*. We will not run your notebook for you, we will grade it as is, which means that only the results contained in your evaluated code cells will be considered, and we will not see the results in unevaluated code cells. In order to check whether everything looks as intended, you can check the rendered notebook on the GitHub website once you have pushed your solution there.\n",
    "\n",
    "[1] Note that NIPS was renamed to NeurIPS in 2018, but for simplicity, whenever we say 'NIPS', we really mean 'NIPS and NeurIPS'."
   ]
  },
  {
   "cell_type": "markdown",
   "metadata": {
    "colab_type": "text",
    "id": "A0IIdWOs48BB"
   },
   "source": [
    "## Task A. Getting a sense of the dataset\n",
    "\n",
    "### A1. Loading the data\n",
    "Download the DBLP dataset (available on [google drive](https://drive.google.com/file/d/1Kci8joML74tCSzuBbhxtd1ylR4f0dlm6/view)) and load it into a Pandas dataframe. A row of your dataframe should look as follows:\n",
    "\n",
    "| paper id | author names | publication year | paper title | \n",
    "| :----:|:-------------:| :-----:|:-----:|\n",
    "| conf/nips/doe1036 | [John Doe, Jane Doe] | 2003 | Some Catchy Title: An Expanded and Boring Title | \n",
    "\n",
    "\n",
    "1. Filter the papers: keep only conference papers. For each of the remaining ones, find the acronym of the conference where it was published. Retain only those papers that have been published in the conferences listed in `data/list_of_ai_conferences.txt`. Additionally, add a column named 'conference' to your dataframe.   \n",
    "_Hint: The `paper id` tells you whether a paper was published at a conference, and if so, at which one._\n",
    "\n",
    "2. Report the overall number of papers in the filtered dataset, as well as the number of papers per conference."
   ]
  },
  {
   "cell_type": "code",
   "execution_count": 1,
   "metadata": {
    "colab": {},
    "colab_type": "code",
    "id": "ara6mLe1l_CQ"
   },
   "outputs": [],
   "source": [
    "%matplotlib inline\n",
    "import pandas as pd\n",
    "import numpy as np\n",
    "import re\n",
    "from matplotlib.ticker import MaxNLocator\n",
    "import matplotlib.pyplot as plt\n",
    "from requests import get\n",
    "from bs4 import BeautifulSoup"
   ]
  },
  {
   "cell_type": "markdown",
   "metadata": {},
   "source": [
    "#### Datafile analysis\n",
    "We have analysed the raw data file. We have looked at the structure of the first multiple lines. We have observed, that the first row is a header followed by the data. We have observed that the first column is id, we have checked, if it's value is unique in the dataset. We have found out that it's and therefore can be used as an index in the pandas DataFrame. We have loaded the dblp.tsv into a DataFrame with new names of the columns and the id as an index. We have analysed the structure of the list_of_ai_conferences.txt and loaded it into a DataFrame."
   ]
  },
  {
   "cell_type": "code",
   "execution_count": 2,
   "metadata": {},
   "outputs": [
    {
     "name": "stdout",
     "output_type": "stream",
     "text": [
      "id\tauthors\tyear\ttitle\n",
      "tr/meltdown/s18\t['Paul Kocher', 'Daniel Genkin', 'Daniel Gruss', 'Werner Haas', 'Mike Hamburg', 'Moritz Lipp', 'Stefan Mangard', 'Thomas Prescher 0002', 'Michael Schwarz 0001', 'Yuval Yarom']\t2018.0\tSpectre Attacks: Exploiting Speculative Execution.\n",
      "tr/meltdown/m18\t['Moritz Lipp', 'Michael Schwarz 0001', 'Daniel Gruss', 'Thomas Prescher 0002', 'Werner Haas', 'Stefan Mangard', 'Paul Kocher', 'Daniel Genkin', 'Yuval Yarom', 'Mike Hamburg']\t2018.0\tMeltdown\n",
      "tr/acm/CS2013\t[]\t2013.0\tComputer Science Curricula 2013\n",
      "tr/gte/TR-0263-08-94-165\t['Frank Manola']\t1994.0\tAn Evaluation of Object-Oriented DBMS Developments: 1994 Edition.\n"
     ]
    }
   ],
   "source": [
    "# look ad the first 5 rows of hte dblp.tsv\n",
    "! head -n 5 ./data/dblp.tsv"
   ]
  },
  {
   "cell_type": "code",
   "execution_count": 3,
   "metadata": {},
   "outputs": [
    {
     "name": "stdout",
     "output_type": "stream",
     "text": [
      "Number of all papers ids:\n",
      "4476041\n"
     ]
    }
   ],
   "source": [
    "# compute number of papers (except the first line because it's the header) in the dblp.tsv\n",
    "! echo \"Number of all papers ids:\"\n",
    "! tail -n+2 ./data/dblp.tsv | awk '{print $1}' | wc -l"
   ]
  },
  {
   "cell_type": "code",
   "execution_count": 4,
   "metadata": {},
   "outputs": [
    {
     "name": "stdout",
     "output_type": "stream",
     "text": [
      "Number of all unique papers ids:\n",
      "4476041\n"
     ]
    }
   ],
   "source": [
    "# compute number of unique paper ids in the dblp.tsv \n",
    "! echo \"Number of all unique papers ids:\"\n",
    "! tail -n+2 ./data/dblp.tsv | awk '{print $1}' | sort | uniq -c |  wc -l"
   ]
  },
  {
   "cell_type": "code",
   "execution_count": 109,
   "metadata": {},
   "outputs": [],
   "source": [
    "# Load original dblp file and conference text file\n",
    "papers_raw = pd.read_csv(\"./data/dblp.tsv\",\n",
    "                   sep='\\t',\n",
    "                   names=[\"paper id\", \"author names\", \"publication year\", \"paper title\"],\n",
    "                   index_col=0,\n",
    "                   skiprows=1)\n",
    "\n",
    "ai_conferences = pd.read_csv(\"./data/list_of_ai_conferences.txt\", names=[\"conference name\"], index_col=0)"
   ]
  },
  {
   "cell_type": "code",
   "execution_count": 110,
   "metadata": {},
   "outputs": [
    {
     "data": {
      "text/html": [
       "<div>\n",
       "<style scoped>\n",
       "    .dataframe tbody tr th:only-of-type {\n",
       "        vertical-align: middle;\n",
       "    }\n",
       "\n",
       "    .dataframe tbody tr th {\n",
       "        vertical-align: top;\n",
       "    }\n",
       "\n",
       "    .dataframe thead th {\n",
       "        text-align: right;\n",
       "    }\n",
       "</style>\n",
       "<table border=\"1\" class=\"dataframe\">\n",
       "  <thead>\n",
       "    <tr style=\"text-align: right;\">\n",
       "      <th></th>\n",
       "      <th>author names</th>\n",
       "      <th>publication year</th>\n",
       "      <th>paper title</th>\n",
       "    </tr>\n",
       "    <tr>\n",
       "      <th>paper id</th>\n",
       "      <th></th>\n",
       "      <th></th>\n",
       "      <th></th>\n",
       "    </tr>\n",
       "  </thead>\n",
       "  <tbody>\n",
       "    <tr>\n",
       "      <th>tr/meltdown/s18</th>\n",
       "      <td>['Paul Kocher', 'Daniel Genkin', 'Daniel Gruss...</td>\n",
       "      <td>2018.0</td>\n",
       "      <td>Spectre Attacks: Exploiting Speculative Execut...</td>\n",
       "    </tr>\n",
       "    <tr>\n",
       "      <th>tr/meltdown/m18</th>\n",
       "      <td>['Moritz Lipp', 'Michael Schwarz 0001', 'Danie...</td>\n",
       "      <td>2018.0</td>\n",
       "      <td>Meltdown</td>\n",
       "    </tr>\n",
       "    <tr>\n",
       "      <th>tr/acm/CS2013</th>\n",
       "      <td>[]</td>\n",
       "      <td>2013.0</td>\n",
       "      <td>Computer Science Curricula 2013</td>\n",
       "    </tr>\n",
       "    <tr>\n",
       "      <th>tr/gte/TR-0263-08-94-165</th>\n",
       "      <td>['Frank Manola']</td>\n",
       "      <td>1994.0</td>\n",
       "      <td>An Evaluation of Object-Oriented DBMS Developm...</td>\n",
       "    </tr>\n",
       "    <tr>\n",
       "      <th>tr/gte/TR-0222-10-92-165</th>\n",
       "      <td>['Michael L. Brodie', 'Michael Stonebraker']</td>\n",
       "      <td>1993.0</td>\n",
       "      <td>DARWIN: On the Incremental Migration of Legacy...</td>\n",
       "    </tr>\n",
       "  </tbody>\n",
       "</table>\n",
       "</div>"
      ],
      "text/plain": [
       "                                                               author names  \\\n",
       "paper id                                                                      \n",
       "tr/meltdown/s18           ['Paul Kocher', 'Daniel Genkin', 'Daniel Gruss...   \n",
       "tr/meltdown/m18           ['Moritz Lipp', 'Michael Schwarz 0001', 'Danie...   \n",
       "tr/acm/CS2013                                                            []   \n",
       "tr/gte/TR-0263-08-94-165                                   ['Frank Manola']   \n",
       "tr/gte/TR-0222-10-92-165       ['Michael L. Brodie', 'Michael Stonebraker']   \n",
       "\n",
       "                         publication year  \\\n",
       "paper id                                    \n",
       "tr/meltdown/s18                    2018.0   \n",
       "tr/meltdown/m18                    2018.0   \n",
       "tr/acm/CS2013                      2013.0   \n",
       "tr/gte/TR-0263-08-94-165           1994.0   \n",
       "tr/gte/TR-0222-10-92-165           1993.0   \n",
       "\n",
       "                                                                paper title  \n",
       "paper id                                                                     \n",
       "tr/meltdown/s18           Spectre Attacks: Exploiting Speculative Execut...  \n",
       "tr/meltdown/m18                                                    Meltdown  \n",
       "tr/acm/CS2013                               Computer Science Curricula 2013  \n",
       "tr/gte/TR-0263-08-94-165  An Evaluation of Object-Oriented DBMS Developm...  \n",
       "tr/gte/TR-0222-10-92-165  DARWIN: On the Incremental Migration of Legacy...  "
      ]
     },
     "execution_count": 110,
     "metadata": {},
     "output_type": "execute_result"
    }
   ],
   "source": [
    "papers_raw.head()"
   ]
  },
  {
   "cell_type": "code",
   "execution_count": 111,
   "metadata": {},
   "outputs": [
    {
     "data": {
      "text/html": [
       "<div>\n",
       "<style scoped>\n",
       "    .dataframe tbody tr th:only-of-type {\n",
       "        vertical-align: middle;\n",
       "    }\n",
       "\n",
       "    .dataframe tbody tr th {\n",
       "        vertical-align: top;\n",
       "    }\n",
       "\n",
       "    .dataframe thead th {\n",
       "        text-align: right;\n",
       "    }\n",
       "</style>\n",
       "<table border=\"1\" class=\"dataframe\">\n",
       "  <thead>\n",
       "    <tr style=\"text-align: right;\">\n",
       "      <th></th>\n",
       "    </tr>\n",
       "    <tr>\n",
       "      <th>conference name</th>\n",
       "    </tr>\n",
       "  </thead>\n",
       "  <tbody>\n",
       "    <tr>\n",
       "      <th>cvpr</th>\n",
       "    </tr>\n",
       "    <tr>\n",
       "      <th>icra</th>\n",
       "    </tr>\n",
       "    <tr>\n",
       "      <th>iccv</th>\n",
       "    </tr>\n",
       "    <tr>\n",
       "      <th>icml</th>\n",
       "    </tr>\n",
       "    <tr>\n",
       "      <th>nips</th>\n",
       "    </tr>\n",
       "    <tr>\n",
       "      <th>acl</th>\n",
       "    </tr>\n",
       "    <tr>\n",
       "      <th>emnlp</th>\n",
       "    </tr>\n",
       "    <tr>\n",
       "      <th>aaai</th>\n",
       "    </tr>\n",
       "    <tr>\n",
       "      <th>aamas</th>\n",
       "    </tr>\n",
       "    <tr>\n",
       "      <th>ijcai</th>\n",
       "    </tr>\n",
       "    <tr>\n",
       "      <th>naacl</th>\n",
       "    </tr>\n",
       "    <tr>\n",
       "      <th>accv</th>\n",
       "    </tr>\n",
       "    <tr>\n",
       "      <th>iccbr</th>\n",
       "    </tr>\n",
       "    <tr>\n",
       "      <th>ida</th>\n",
       "    </tr>\n",
       "    <tr>\n",
       "      <th>ilp</th>\n",
       "    </tr>\n",
       "    <tr>\n",
       "      <th>pricai</th>\n",
       "    </tr>\n",
       "    <tr>\n",
       "      <th>ksem</th>\n",
       "    </tr>\n",
       "    <tr>\n",
       "      <th>icann</th>\n",
       "    </tr>\n",
       "    <tr>\n",
       "      <th>iconip</th>\n",
       "    </tr>\n",
       "    <tr>\n",
       "      <th>fgr</th>\n",
       "    </tr>\n",
       "  </tbody>\n",
       "</table>\n",
       "</div>"
      ],
      "text/plain": [
       "Empty DataFrame\n",
       "Columns: []\n",
       "Index: [cvpr, icra, iccv, icml, nips, acl, emnlp, aaai, aamas, ijcai, naacl, accv, iccbr, ida, ilp, pricai, ksem, icann, iconip, fgr]"
      ]
     },
     "execution_count": 111,
     "metadata": {},
     "output_type": "execute_result"
    }
   ],
   "source": [
    "ai_conferences"
   ]
  },
  {
   "cell_type": "code",
   "execution_count": 112,
   "metadata": {},
   "outputs": [
    {
     "data": {
      "text/html": [
       "<div>\n",
       "<style scoped>\n",
       "    .dataframe tbody tr th:only-of-type {\n",
       "        vertical-align: middle;\n",
       "    }\n",
       "\n",
       "    .dataframe tbody tr th {\n",
       "        vertical-align: top;\n",
       "    }\n",
       "\n",
       "    .dataframe thead th {\n",
       "        text-align: right;\n",
       "    }\n",
       "</style>\n",
       "<table border=\"1\" class=\"dataframe\">\n",
       "  <thead>\n",
       "    <tr style=\"text-align: right;\">\n",
       "      <th></th>\n",
       "      <th>author names</th>\n",
       "      <th>publication year</th>\n",
       "      <th>paper title</th>\n",
       "      <th>conference</th>\n",
       "    </tr>\n",
       "    <tr>\n",
       "      <th>paper id</th>\n",
       "      <th></th>\n",
       "      <th></th>\n",
       "      <th></th>\n",
       "      <th></th>\n",
       "    </tr>\n",
       "  </thead>\n",
       "  <tbody>\n",
       "    <tr>\n",
       "      <th>conf/iccv/KunoOO90</th>\n",
       "      <td>['Yoshinori Kuno', 'Yasukazu Okamoto', 'Satosh...</td>\n",
       "      <td>1990.0</td>\n",
       "      <td>Object recognition using a feature search stra...</td>\n",
       "      <td>iccv</td>\n",
       "    </tr>\n",
       "    <tr>\n",
       "      <th>conf/iccv/VedulaBRCK99</th>\n",
       "      <td>['Sundar Vedula', 'Simon Baker', 'Peter Rander...</td>\n",
       "      <td>1999.0</td>\n",
       "      <td>Three-Dimensional Scene Flow.</td>\n",
       "      <td>iccv</td>\n",
       "    </tr>\n",
       "    <tr>\n",
       "      <th>conf/iccv/MeminP99</th>\n",
       "      <td>['Étienne Mémin', 'Patrick Pérez']</td>\n",
       "      <td>1999.0</td>\n",
       "      <td>Fluid Motion Recovery by Coupling Dense and Pa...</td>\n",
       "      <td>iccv</td>\n",
       "    </tr>\n",
       "    <tr>\n",
       "      <th>conf/iccv/DickinsonPR90</th>\n",
       "      <td>['Sven J. Dickinson', 'Alex Pentland', 'Azriel...</td>\n",
       "      <td>1990.0</td>\n",
       "      <td>Qualitative 3-D shape reconstruction using dis...</td>\n",
       "      <td>iccv</td>\n",
       "    </tr>\n",
       "    <tr>\n",
       "      <th>conf/iccv/SinghYL17</th>\n",
       "      <td>['Avi Singh', 'Larry Yang', 'Sergey Levine']</td>\n",
       "      <td>2017.0</td>\n",
       "      <td>GPLAC: Generalizing Vision-Based Robotic Skill...</td>\n",
       "      <td>iccv</td>\n",
       "    </tr>\n",
       "  </tbody>\n",
       "</table>\n",
       "</div>"
      ],
      "text/plain": [
       "                                                              author names  \\\n",
       "paper id                                                                     \n",
       "conf/iccv/KunoOO90       ['Yoshinori Kuno', 'Yasukazu Okamoto', 'Satosh...   \n",
       "conf/iccv/VedulaBRCK99   ['Sundar Vedula', 'Simon Baker', 'Peter Rander...   \n",
       "conf/iccv/MeminP99                      ['Étienne Mémin', 'Patrick Pérez']   \n",
       "conf/iccv/DickinsonPR90  ['Sven J. Dickinson', 'Alex Pentland', 'Azriel...   \n",
       "conf/iccv/SinghYL17           ['Avi Singh', 'Larry Yang', 'Sergey Levine']   \n",
       "\n",
       "                        publication year  \\\n",
       "paper id                                   \n",
       "conf/iccv/KunoOO90                1990.0   \n",
       "conf/iccv/VedulaBRCK99            1999.0   \n",
       "conf/iccv/MeminP99                1999.0   \n",
       "conf/iccv/DickinsonPR90           1990.0   \n",
       "conf/iccv/SinghYL17               2017.0   \n",
       "\n",
       "                                                               paper title  \\\n",
       "paper id                                                                     \n",
       "conf/iccv/KunoOO90       Object recognition using a feature search stra...   \n",
       "conf/iccv/VedulaBRCK99                       Three-Dimensional Scene Flow.   \n",
       "conf/iccv/MeminP99       Fluid Motion Recovery by Coupling Dense and Pa...   \n",
       "conf/iccv/DickinsonPR90  Qualitative 3-D shape reconstruction using dis...   \n",
       "conf/iccv/SinghYL17      GPLAC: Generalizing Vision-Based Robotic Skill...   \n",
       "\n",
       "                        conference  \n",
       "paper id                            \n",
       "conf/iccv/KunoOO90            iccv  \n",
       "conf/iccv/VedulaBRCK99        iccv  \n",
       "conf/iccv/MeminP99            iccv  \n",
       "conf/iccv/DickinsonPR90       iccv  \n",
       "conf/iccv/SinghYL17           iccv  "
      ]
     },
     "execution_count": 112,
     "metadata": {},
     "output_type": "execute_result"
    }
   ],
   "source": [
    "# filter out those published in the conferences and add a new column specifying their conference name\n",
    "papers_in_conf = papers_raw[papers_raw.index.map(lambda id: True if (id.split('/')[1] in ai_conferences.index) & (id.split('/')[0] == 'conf') else False)]\n",
    "conf_names = papers_in_conf.index.to_series().map(lambda id: id.split('/')[1])\n",
    "papers_in_conf = pd.concat([papers_in_conf, conf_names], axis = 1).rename(columns = {'paper id': 'conference'})\n",
    "papers_in_conf.head()"
   ]
  },
  {
   "cell_type": "code",
   "execution_count": 113,
   "metadata": {},
   "outputs": [
    {
     "name": "stdout",
     "output_type": "stream",
     "text": [
      "Total number of filtered dataset: 102003\n"
     ]
    }
   ],
   "source": [
    "# Total number of filtered dataset\n",
    "print('Total number of filtered dataset: {0}'.format(len(papers_in_conf)))"
   ]
  },
  {
   "cell_type": "code",
   "execution_count": 114,
   "metadata": {},
   "outputs": [
    {
     "name": "stdout",
     "output_type": "stream",
     "text": [
      "Number of papers per conference: \n",
      "\n",
      "            Number\n",
      "conference        \n",
      "aaai         10796\n",
      "aamas          367\n",
      "accv          2390\n",
      "acl           6330\n",
      "cvpr         12853\n",
      "emnlp         3299\n",
      "fgr           1383\n",
      "icann         3134\n",
      "iccbr          863\n",
      "iccv          4179\n",
      "icml          5017\n",
      "iconip        4985\n",
      "icra         21585\n",
      "ida            712\n",
      "ijcai         9669\n",
      "ilp            679\n",
      "ksem           635\n",
      "naacl         3310\n",
      "nips          8445\n",
      "pricai        1372\n"
     ]
    }
   ],
   "source": [
    "# Number of papers per conference\n",
    "print('Number of papers per conference: \\n')\n",
    "print(pd.DataFrame(papers_in_conf.groupby('conference').size().rename('Number')))"
   ]
  },
  {
   "cell_type": "markdown",
   "metadata": {
    "colab_type": "text",
    "id": "mnE6N9zXl-yz"
   },
   "source": [
    "### A2. An author-centric look\n",
    "The dataframe you created above was a paper-centric one. Now, we want you to create a new dataframe centered around authors. Do this by expanding the author names in the lists in the 2nd column into separate rows. That is, if a paper has 3 authors, turn that row into 3 rows, each of which only contains one of the author names (along with the rest of the paper information, i.e., title, conference and year). Keep both dataframes, we are going to need both of them.    \n",
    "**Report the number of unique authors.**"
   ]
  },
  {
   "cell_type": "code",
   "execution_count": 115,
   "metadata": {},
   "outputs": [
    {
     "data": {
      "text/html": [
       "<div>\n",
       "<style scoped>\n",
       "    .dataframe tbody tr th:only-of-type {\n",
       "        vertical-align: middle;\n",
       "    }\n",
       "\n",
       "    .dataframe tbody tr th {\n",
       "        vertical-align: top;\n",
       "    }\n",
       "\n",
       "    .dataframe thead th {\n",
       "        text-align: right;\n",
       "    }\n",
       "</style>\n",
       "<table border=\"1\" class=\"dataframe\">\n",
       "  <thead>\n",
       "    <tr style=\"text-align: right;\">\n",
       "      <th></th>\n",
       "      <th>paper id</th>\n",
       "      <th>publication year</th>\n",
       "      <th>paper title</th>\n",
       "      <th>conference</th>\n",
       "      <th>author</th>\n",
       "    </tr>\n",
       "  </thead>\n",
       "  <tbody>\n",
       "    <tr>\n",
       "      <th>0</th>\n",
       "      <td>conf/iccv/KunoOO90</td>\n",
       "      <td>1990.0</td>\n",
       "      <td>Object recognition using a feature search stra...</td>\n",
       "      <td>iccv</td>\n",
       "      <td>Yoshinori Kuno</td>\n",
       "    </tr>\n",
       "    <tr>\n",
       "      <th>1</th>\n",
       "      <td>conf/iccv/VedulaBRCK99</td>\n",
       "      <td>1999.0</td>\n",
       "      <td>Three-Dimensional Scene Flow.</td>\n",
       "      <td>iccv</td>\n",
       "      <td>Sundar Vedula</td>\n",
       "    </tr>\n",
       "    <tr>\n",
       "      <th>2</th>\n",
       "      <td>conf/iccv/MeminP99</td>\n",
       "      <td>1999.0</td>\n",
       "      <td>Fluid Motion Recovery by Coupling Dense and Pa...</td>\n",
       "      <td>iccv</td>\n",
       "      <td>Étienne Mémin</td>\n",
       "    </tr>\n",
       "    <tr>\n",
       "      <th>3</th>\n",
       "      <td>conf/iccv/DickinsonPR90</td>\n",
       "      <td>1990.0</td>\n",
       "      <td>Qualitative 3-D shape reconstruction using dis...</td>\n",
       "      <td>iccv</td>\n",
       "      <td>Sven J. Dickinson</td>\n",
       "    </tr>\n",
       "    <tr>\n",
       "      <th>4</th>\n",
       "      <td>conf/iccv/SinghYL17</td>\n",
       "      <td>2017.0</td>\n",
       "      <td>GPLAC: Generalizing Vision-Based Robotic Skill...</td>\n",
       "      <td>iccv</td>\n",
       "      <td>Avi Singh</td>\n",
       "    </tr>\n",
       "  </tbody>\n",
       "</table>\n",
       "</div>"
      ],
      "text/plain": [
       "                  paper id publication year  \\\n",
       "0       conf/iccv/KunoOO90           1990.0   \n",
       "1   conf/iccv/VedulaBRCK99           1999.0   \n",
       "2       conf/iccv/MeminP99           1999.0   \n",
       "3  conf/iccv/DickinsonPR90           1990.0   \n",
       "4      conf/iccv/SinghYL17           2017.0   \n",
       "\n",
       "                                         paper title conference  \\\n",
       "0  Object recognition using a feature search stra...       iccv   \n",
       "1                      Three-Dimensional Scene Flow.       iccv   \n",
       "2  Fluid Motion Recovery by Coupling Dense and Pa...       iccv   \n",
       "3  Qualitative 3-D shape reconstruction using dis...       iccv   \n",
       "4  GPLAC: Generalizing Vision-Based Robotic Skill...       iccv   \n",
       "\n",
       "              author  \n",
       "0     Yoshinori Kuno  \n",
       "1      Sundar Vedula  \n",
       "2      Étienne Mémin  \n",
       "3  Sven J. Dickinson  \n",
       "4          Avi Singh  "
      ]
     },
     "execution_count": 115,
     "metadata": {},
     "output_type": "execute_result"
    }
   ],
   "source": [
    "# Create a author-centric dataframe\n",
    "authors_in_conf = (papers_in_conf['author names']\n",
    "                  .apply(lambda x: x.strip('[]').replace('\\'', '').split(', ')).apply(pd.Series)\n",
    "                  .merge(papers_in_conf, left_index = True, right_index = True)\n",
    "                  .drop(['author names'], axis = 1).reset_index()\n",
    "                  .melt(id_vars = ['paper id', 'publication year', 'paper title', 'conference'], value_name = 'author')\n",
    "                  .drop('variable', axis = 1)\n",
    "                  .dropna(subset = ['author']))\n",
    "\n",
    "authors_in_conf['author'] = authors_in_conf['author'].str.strip('/\"')\n",
    "# authors_in_conf['author'] = authors_in_conf['author'].apply(lambda name: re.sub('\\d+', \"\", name) if re.search('\\d', name) else name)\n",
    "authors_in_conf.head()"
   ]
  },
  {
   "cell_type": "code",
   "execution_count": 116,
   "metadata": {},
   "outputs": [
    {
     "name": "stdout",
     "output_type": "stream",
     "text": [
      "Total number of unique authors: 105815\n"
     ]
    }
   ],
   "source": [
    "# Number of unique authors\n",
    "print('Total number of unique authors: {0}'.format(len(authors_in_conf['author'].unique())))"
   ]
  },
  {
   "cell_type": "markdown",
   "metadata": {
    "colab_type": "text",
    "id": "8ZiuGiDsl60f"
   },
   "source": [
    "### A3. Is your data analysis-friendly?\n",
    "\n",
    "Using an appropriate view of your data (paper-centric or author-centric), solve the following tasks:\n",
    "\n",
    "1. Plot the number of papers per author and analyze it. Do you observe any outliers? Can you identify the source of the problem? Please elaborate!   \n",
    "_Hint: To find out where the problem comes from, try performing an analysis at the conference or year level._   \n",
    "Make sure you remove this inconsistency from your dataframe before moving to the next step, and also create a new plot of the number of papers per author after fixing the problem.   \n",
    "\n",
    "2. Plot the number of papers per year. Do you observe any inconsistency in the output? Real-world data is usually messy, with typos, erroneous entries, and sometimes issues that make even loading the data problematic. Fix any errors that you encounter along the way, find ways to clean the attribute `year`, and redo the plot of the number of papers per year.   \n",
    "\n",
    "3. Machine learning (ML) has been one of the hottest topics within the broader area of AI recently, so let’s see if this is reflected in the number of ML publications. In particular, let’s focus on the two major ML conferences, NIPS and ICML: make a new dataframe with only NIPS and ICML papers (let’s call these the “ML papers”), plot the number of ML papers over time, and analyze and discuss the plot. Do you observe anything odd in this plot? What causes these problems?   \n",
    "_Hint: Try to perform an analysis at the conference or year level._   \n",
    "\n",
    "4. By now, you may have noticed that some conferences are not fully represented in the DBLP dataset. Complete the paper-centric dataframe by scraping the full NIPS data from the online proceedings at https://papers.nips.cc/ (maintain the same schema used in your previous dataframes, but fill in missing values). After this step, remove any remaining papers that have missing values. Redo the plots of steps A3.2 and A3.3 after fixing the issue.   \n",
    "\n",
    "_Note: In order to avoid re-running the cleaning part of the notebook every time, you could save the results at this point as a pickle file! Also, propagating your cleaning to both dataframes might prove useful later on._"
   ]
  },
  {
   "cell_type": "markdown",
   "metadata": {},
   "source": [
    "***A3.1***"
   ]
  },
  {
   "cell_type": "markdown",
   "metadata": {},
   "source": [
    "#### Calculate the paper number for each author and plot the distribution to see if there is any outlier"
   ]
  },
  {
   "cell_type": "code",
   "execution_count": 117,
   "metadata": {
    "colab": {},
    "colab_type": "code",
    "id": "co_yXyk2TzHo",
    "scrolled": true
   },
   "outputs": [
    {
     "data": {
      "text/html": [
       "<div>\n",
       "<style scoped>\n",
       "    .dataframe tbody tr th:only-of-type {\n",
       "        vertical-align: middle;\n",
       "    }\n",
       "\n",
       "    .dataframe tbody tr th {\n",
       "        vertical-align: top;\n",
       "    }\n",
       "\n",
       "    .dataframe thead th {\n",
       "        text-align: right;\n",
       "    }\n",
       "</style>\n",
       "<table border=\"1\" class=\"dataframe\">\n",
       "  <thead>\n",
       "    <tr style=\"text-align: right;\">\n",
       "      <th></th>\n",
       "      <th>author</th>\n",
       "      <th>counts</th>\n",
       "    </tr>\n",
       "  </thead>\n",
       "  <tbody>\n",
       "    <tr>\n",
       "      <th>0</th>\n",
       "      <td></td>\n",
       "      <td>950</td>\n",
       "    </tr>\n",
       "    <tr>\n",
       "      <th>1</th>\n",
       "      <td>Sheila A. McIlraith</td>\n",
       "      <td>918</td>\n",
       "    </tr>\n",
       "    <tr>\n",
       "      <th>2</th>\n",
       "      <td>Satinder P. Singh (ed.)</td>\n",
       "      <td>663</td>\n",
       "    </tr>\n",
       "    <tr>\n",
       "      <th>3</th>\n",
       "      <td>Luc Van Gool</td>\n",
       "      <td>220</td>\n",
       "    </tr>\n",
       "    <tr>\n",
       "      <th>4</th>\n",
       "      <td>Toshio Fukuda</td>\n",
       "      <td>196</td>\n",
       "    </tr>\n",
       "  </tbody>\n",
       "</table>\n",
       "</div>"
      ],
      "text/plain": [
       "                    author  counts\n",
       "0                              950\n",
       "1      Sheila A. McIlraith     918\n",
       "2  Satinder P. Singh (ed.)     663\n",
       "3             Luc Van Gool     220\n",
       "4            Toshio Fukuda     196"
      ]
     },
     "execution_count": 117,
     "metadata": {},
     "output_type": "execute_result"
    }
   ],
   "source": [
    "# show the number of papers per author\n",
    "num_paper_per_author = (authors_in_conf\n",
    "                        .groupby('author')['paper id']\n",
    "                        .count()\n",
    "                        .reset_index()\n",
    "                        .rename(columns = {'paper id': 'counts'}))\n",
    "\n",
    "num_paper_per_author.sort_values(by = ['counts'], ascending = False).reset_index().drop(['index'], axis = 1).head()"
   ]
  },
  {
   "cell_type": "code",
   "execution_count": 118,
   "metadata": {},
   "outputs": [
    {
     "data": {
      "image/png": "[encoded data removed]",
      "text/plain": [
       "<Figure size 360x576 with 1 Axes>"
      ]
     },
     "metadata": {
      "needs_background": "light"
     },
     "output_type": "display_data"
    }
   ],
   "source": [
    "# plot the figure\n",
    "plt.figure(figsize = (5, 8))\n",
    "plt.boxplot(num_paper_per_author['counts'])\n",
    "plt.grid()\n",
    "plt.xlabel('author')\n",
    "plt.ylabel('counts')\n",
    "plt.title('Number of paper produced by each author')\n",
    "plt.show()"
   ]
  },
  {
   "cell_type": "code",
   "execution_count": 119,
   "metadata": {},
   "outputs": [
    {
     "data": {
      "image/png": "[encoded data removed]",
      "text/plain": [
       "<Figure size 720x720 with 1 Axes>"
      ]
     },
     "metadata": {
      "needs_background": "light"
     },
     "output_type": "display_data"
    }
   ],
   "source": [
    "# Plot histogram of authors count of published papers\n",
    "plt.figure(figsize = (10, 10))\n",
    "\n",
    "bins_ = np.linspace(0, 1000, 60)\n",
    "plt.hist(num_paper_per_author[num_paper_per_author['counts'] < 600]['counts'], bins=bins_)\n",
    "plt.hist(num_paper_per_author[num_paper_per_author['counts'] > 600]['counts'], bins=bins_)\n",
    "plt.gca().set_yscale('log')\n",
    "plt.grid()\n",
    "plt.title('Authors count of published papers')\n",
    "plt.xlabel('papers')\n",
    "plt.ylabel('authors')\n",
    "plt.show()"
   ]
  },
  {
   "cell_type": "markdown",
   "metadata": {},
   "source": [
    "#### Explanation:\n",
    "1. From the plot above, we can easily see that there are 3 outliers: empty value,  Sheila A. McIlraith, and Satinder P. Singh (ed.). That being said, these 3 authors have more papers published than any other authors in the given dataset. Below we will check further about their publication distribution in conferences."
   ]
  },
  {
   "cell_type": "markdown",
   "metadata": {},
   "source": [
    "#### Investigate more about three suspicious outliers papers distribution in every conference and year"
   ]
  },
  {
   "cell_type": "code",
   "execution_count": 120,
   "metadata": {},
   "outputs": [
    {
     "name": "stdout",
     "output_type": "stream",
     "text": [
      "Empty Value \n",
      "\n",
      "  author conference  counts\n",
      "0               acl     140\n",
      "1             ijcai     122\n",
      "2              aaai     108\n",
      "  author publication year  counts\n",
      "0                  2016.0      55\n",
      "1                  2015.0      51\n",
      "2                  2011.0      49\n",
      "\n",
      "\n",
      "Sheila A. McIlraith \n",
      "\n",
      "                author conference  counts\n",
      "0  Sheila A. McIlraith       aaai     904\n",
      "1  Sheila A. McIlraith      ijcai      13\n",
      "2  Sheila A. McIlraith       icml       1\n",
      "                author publication year  counts\n",
      "0  Sheila A. McIlraith           2018.0     893\n",
      "1  Sheila A. McIlraith           2016.0       3\n",
      "2  Sheila A. McIlraith           2007.0       2\n",
      "\n",
      "\n",
      " Satinder P. Singh (ed.)    \n",
      "\n",
      "                    author conference  counts\n",
      "0  Satinder P. Singh (ed.)       aaai     663\n",
      "                    author publication year  counts\n",
      "0  Satinder P. Singh (ed.)           2017.0     663\n"
     ]
    }
   ],
   "source": [
    "# Take a look at three possible outliers' number of papers in respective conferences and the number of papers per year.\n",
    "num_paper_per_author_per_conf = (authors_in_conf\n",
    "                                .groupby(['author', 'conference'])['paper id']\n",
    "                                .count()\n",
    "                                .reset_index()\n",
    "                                .rename(columns = {'paper id': 'counts'}))\n",
    "\n",
    "num_paper_per_author_per_year = (authors_in_conf\n",
    "                                .groupby(['author', 'publication year'])['paper id']\n",
    "                                .count()\n",
    "                                .reset_index()\n",
    "                                .rename(columns = {'paper id': 'counts'}))\n",
    "\n",
    "print('Empty Value \\n')\n",
    "print(num_paper_per_author_per_conf[num_paper_per_author_per_conf.author == ''].sort_values(by = 'counts', ascending = False).reset_index().drop(['index'], axis = 1).head(3))\n",
    "print(num_paper_per_author_per_year[num_paper_per_author_per_year.author == ''].sort_values(by = 'counts', ascending = False).reset_index().drop(['index'], axis = 1).head(3))\n",
    "print('\\n\\nSheila A. McIlraith \\n')\n",
    "print(num_paper_per_author_per_conf[num_paper_per_author_per_conf.author == 'Sheila A. McIlraith'].sort_values(by = 'counts', ascending = False).reset_index().drop(['index'], axis = 1).head(3))\n",
    "print(num_paper_per_author_per_year[num_paper_per_author_per_year.author == 'Sheila A. McIlraith'].sort_values(by = 'counts', ascending = False).reset_index().drop(['index'], axis = 1).head(3))\n",
    "print('\\n\\n Satinder P. Singh (ed.)    \\n')\n",
    "print(num_paper_per_author_per_conf[num_paper_per_author_per_conf.author == 'Satinder P. Singh (ed.)'].sort_values(by = 'counts', ascending = False).reset_index().drop(['index'], axis = 1).head(3))\n",
    "print(num_paper_per_author_per_year[num_paper_per_author_per_year.author == 'Satinder P. Singh (ed.)'].sort_values(by = 'counts', ascending = False).reset_index().drop(['index'], axis = 1).head(3))"
   ]
  },
  {
   "cell_type": "code",
   "execution_count": 18,
   "metadata": {},
   "outputs": [
    {
     "name": "stdout",
     "output_type": "stream",
     "text": [
      "The papers published by Sheila A. McIlraith for aaai in 2018 do not contain her initial in the id\n"
     ]
    },
    {
     "data": {
      "text/html": [
       "<div>\n",
       "<style scoped>\n",
       "    .dataframe tbody tr th:only-of-type {\n",
       "        vertical-align: middle;\n",
       "    }\n",
       "\n",
       "    .dataframe tbody tr th {\n",
       "        vertical-align: top;\n",
       "    }\n",
       "\n",
       "    .dataframe thead th {\n",
       "        text-align: right;\n",
       "    }\n",
       "</style>\n",
       "<table border=\"1\" class=\"dataframe\">\n",
       "  <thead>\n",
       "    <tr style=\"text-align: right;\">\n",
       "      <th></th>\n",
       "      <th>paper id</th>\n",
       "      <th>publication year</th>\n",
       "      <th>conference</th>\n",
       "    </tr>\n",
       "  </thead>\n",
       "  <tbody>\n",
       "    <tr>\n",
       "      <th>34101</th>\n",
       "      <td>conf/aaai/2018w</td>\n",
       "      <td>2018.0</td>\n",
       "      <td>aaai</td>\n",
       "    </tr>\n",
       "    <tr>\n",
       "      <th>38936</th>\n",
       "      <td>conf/aaai/2018</td>\n",
       "      <td>2018.0</td>\n",
       "      <td>aaai</td>\n",
       "    </tr>\n",
       "    <tr>\n",
       "      <th>134324</th>\n",
       "      <td>conf/aaai/Lorini18</td>\n",
       "      <td>2018.0</td>\n",
       "      <td>aaai</td>\n",
       "    </tr>\n",
       "    <tr>\n",
       "      <th>134419</th>\n",
       "      <td>conf/aaai/Abhishek18</td>\n",
       "      <td>2018.0</td>\n",
       "      <td>aaai</td>\n",
       "    </tr>\n",
       "    <tr>\n",
       "      <th>134513</th>\n",
       "      <td>conf/aaai/Heule18</td>\n",
       "      <td>2018.0</td>\n",
       "      <td>aaai</td>\n",
       "    </tr>\n",
       "  </tbody>\n",
       "</table>\n",
       "</div>"
      ],
      "text/plain": [
       "                    paper id publication year conference\n",
       "34101        conf/aaai/2018w           2018.0       aaai\n",
       "38936         conf/aaai/2018           2018.0       aaai\n",
       "134324    conf/aaai/Lorini18           2018.0       aaai\n",
       "134419  conf/aaai/Abhishek18           2018.0       aaai\n",
       "134513     conf/aaai/Heule18           2018.0       aaai"
      ]
     },
     "metadata": {},
     "output_type": "display_data"
    },
    {
     "name": "stdout",
     "output_type": "stream",
     "text": [
      "\n",
      "The papers published by Sheila A. McIlraith for other conferences seem to contains her initial in the id\n"
     ]
    },
    {
     "data": {
      "text/html": [
       "<div>\n",
       "<style scoped>\n",
       "    .dataframe tbody tr th:only-of-type {\n",
       "        vertical-align: middle;\n",
       "    }\n",
       "\n",
       "    .dataframe tbody tr th {\n",
       "        vertical-align: top;\n",
       "    }\n",
       "\n",
       "    .dataframe thead th {\n",
       "        text-align: right;\n",
       "    }\n",
       "</style>\n",
       "<table border=\"1\" class=\"dataframe\">\n",
       "  <thead>\n",
       "    <tr style=\"text-align: right;\">\n",
       "      <th></th>\n",
       "      <th>paper id</th>\n",
       "      <th>publication year</th>\n",
       "      <th>conference</th>\n",
       "    </tr>\n",
       "  </thead>\n",
       "  <tbody>\n",
       "    <tr>\n",
       "      <th>81449</th>\n",
       "      <td>conf/ijcai/McIlraithA01</td>\n",
       "      <td>&lt;i&gt;2001.0&lt;/i&gt;</td>\n",
       "      <td>ijcai</td>\n",
       "    </tr>\n",
       "    <tr>\n",
       "      <th>183371</th>\n",
       "      <td>conf/ijcai/MuiseMB11</td>\n",
       "      <td>2011.0</td>\n",
       "      <td>ijcai</td>\n",
       "    </tr>\n",
       "    <tr>\n",
       "      <th>187370</th>\n",
       "      <td>conf/ijcai/MacCartneyMAU03</td>\n",
       "      <td>2003.0</td>\n",
       "      <td>ijcai</td>\n",
       "    </tr>\n",
       "    <tr>\n",
       "      <th>187640</th>\n",
       "      <td>conf/ijcai/IllanesM16</td>\n",
       "      <td>&lt;i&gt;2016.0&lt;/i&gt;</td>\n",
       "      <td>ijcai</td>\n",
       "    </tr>\n",
       "    <tr>\n",
       "      <th>188013</th>\n",
       "      <td>conf/ijcai/IllanesM17</td>\n",
       "      <td>'17</td>\n",
       "      <td>ijcai</td>\n",
       "    </tr>\n",
       "  </tbody>\n",
       "</table>\n",
       "</div>"
      ],
      "text/plain": [
       "                          paper id publication year conference\n",
       "81449      conf/ijcai/McIlraithA01    <i>2001.0</i>      ijcai\n",
       "183371        conf/ijcai/MuiseMB11           2011.0      ijcai\n",
       "187370  conf/ijcai/MacCartneyMAU03           2003.0      ijcai\n",
       "187640       conf/ijcai/IllanesM16    <i>2016.0</i>      ijcai\n",
       "188013       conf/ijcai/IllanesM17              '17      ijcai"
      ]
     },
     "metadata": {},
     "output_type": "display_data"
    },
    {
     "name": "stdout",
     "output_type": "stream",
     "text": [
      "\n",
      "The papers published by Sheila A. McIlraith for aaai seems before 2017 seem to contains her initial in the id\n"
     ]
    },
    {
     "data": {
      "text/html": [
       "<div>\n",
       "<style scoped>\n",
       "    .dataframe tbody tr th:only-of-type {\n",
       "        vertical-align: middle;\n",
       "    }\n",
       "\n",
       "    .dataframe tbody tr th {\n",
       "        vertical-align: top;\n",
       "    }\n",
       "\n",
       "    .dataframe thead th {\n",
       "        text-align: right;\n",
       "    }\n",
       "</style>\n",
       "<table border=\"1\" class=\"dataframe\">\n",
       "  <thead>\n",
       "    <tr style=\"text-align: right;\">\n",
       "      <th></th>\n",
       "      <th>paper id</th>\n",
       "      <th>publication year</th>\n",
       "      <th>conference</th>\n",
       "    </tr>\n",
       "  </thead>\n",
       "  <tbody>\n",
       "    <tr>\n",
       "      <th>35347</th>\n",
       "      <td>conf/aaai/McIlraithS00</td>\n",
       "      <td>'00</td>\n",
       "      <td>aaai</td>\n",
       "    </tr>\n",
       "    <tr>\n",
       "      <th>35462</th>\n",
       "      <td>conf/aaai/McIlraith97</td>\n",
       "      <td>&lt;em&gt;1997.0&lt;/em&gt;</td>\n",
       "      <td>aaai</td>\n",
       "    </tr>\n",
       "    <tr>\n",
       "      <th>139468</th>\n",
       "      <td>conf/aaai/BaierM06</td>\n",
       "      <td>2006.0</td>\n",
       "      <td>aaai</td>\n",
       "    </tr>\n",
       "    <tr>\n",
       "      <th>140760</th>\n",
       "      <td>conf/aaai/RobinsonMT14</td>\n",
       "      <td>2014.0</td>\n",
       "      <td>aaai</td>\n",
       "    </tr>\n",
       "    <tr>\n",
       "      <th>144926</th>\n",
       "      <td>conf/aaai/MuiseMBH10</td>\n",
       "      <td>2010.0</td>\n",
       "      <td>aaai</td>\n",
       "    </tr>\n",
       "  </tbody>\n",
       "</table>\n",
       "</div>"
      ],
      "text/plain": [
       "                      paper id publication year conference\n",
       "35347   conf/aaai/McIlraithS00              '00       aaai\n",
       "35462    conf/aaai/McIlraith97  <em>1997.0</em>       aaai\n",
       "139468      conf/aaai/BaierM06           2006.0       aaai\n",
       "140760  conf/aaai/RobinsonMT14           2014.0       aaai\n",
       "144926    conf/aaai/MuiseMBH10           2010.0       aaai"
      ]
     },
     "metadata": {},
     "output_type": "display_data"
    }
   ],
   "source": [
    "# Check Sheila A. McIlraith's papers for aaai coference in 2018\n",
    "# Also check Sheila A. McIlraith's papers in conferences other than aaai and papers in aaai conferences before 2018\n",
    "\n",
    "print('The papers published by Sheila A. McIlraith for aaai in 2018 do not contain her initial in the id')\n",
    "display(authors_in_conf[(authors_in_conf['author'] == 'Sheila A. McIlraith') & (authors_in_conf['conference'] == 'aaai') & (authors_in_conf['publication year'] == '2018.0')][['paper id','publication year','conference']].head())\n",
    "print('\\nThe papers published by Sheila A. McIlraith for other conferences seem to contains her initial in the id')\n",
    "display(authors_in_conf[(authors_in_conf['author'] == 'Sheila A. McIlraith') & ~(authors_in_conf['conference'] == 'aaai')][['paper id','publication year','conference']].head())\n",
    "print('\\nThe papers published by Sheila A. McIlraith for aaai seems before 2017 seem to contains her initial in the id')\n",
    "display(authors_in_conf[(authors_in_conf['author'] == 'Sheila A. McIlraith') & (authors_in_conf['conference'] == 'aaai') & ~(authors_in_conf['publication year'] == '2018.0')][['paper id','publication year','conference']].head())"
   ]
  },
  {
   "cell_type": "code",
   "execution_count": 122,
   "metadata": {},
   "outputs": [
    {
     "data": {
      "text/html": [
       "<div>\n",
       "<style scoped>\n",
       "    .dataframe tbody tr th:only-of-type {\n",
       "        vertical-align: middle;\n",
       "    }\n",
       "\n",
       "    .dataframe tbody tr th {\n",
       "        vertical-align: top;\n",
       "    }\n",
       "\n",
       "    .dataframe thead th {\n",
       "        text-align: right;\n",
       "    }\n",
       "</style>\n",
       "<table border=\"1\" class=\"dataframe\">\n",
       "  <thead>\n",
       "    <tr style=\"text-align: right;\">\n",
       "      <th></th>\n",
       "      <th>paper id</th>\n",
       "      <th>publication year</th>\n",
       "      <th>paper title</th>\n",
       "      <th>conference</th>\n",
       "      <th>author</th>\n",
       "    </tr>\n",
       "  </thead>\n",
       "  <tbody>\n",
       "    <tr>\n",
       "      <th>36976</th>\n",
       "      <td>conf/aaai/2017</td>\n",
       "      <td>2017.0</td>\n",
       "      <td>Proceedings of the Thirty-First AAAI Conferenc...</td>\n",
       "      <td>aaai</td>\n",
       "      <td>Satinder P. Singh (ed.)</td>\n",
       "    </tr>\n",
       "    <tr>\n",
       "      <th>38242</th>\n",
       "      <td>conf/aaai/2017w</td>\n",
       "      <td>2017.0</td>\n",
       "      <td>The Workshops of the The Thirty-First AAAI Con...</td>\n",
       "      <td>aaai</td>\n",
       "      <td>Satinder P. Singh (ed.)</td>\n",
       "    </tr>\n",
       "    <tr>\n",
       "      <th>134421</th>\n",
       "      <td>conf/aaai/Luger17</td>\n",
       "      <td>2017.0</td>\n",
       "      <td>Beyond Mechanical Turk: Using Techniques from ...</td>\n",
       "      <td>aaai</td>\n",
       "      <td>Satinder P. Singh (ed.)</td>\n",
       "    </tr>\n",
       "    <tr>\n",
       "      <th>134437</th>\n",
       "      <td>conf/aaai/Beckers17</td>\n",
       "      <td>2017.0</td>\n",
       "      <td>AAAI: An Argument Against Artificial Intellige...</td>\n",
       "      <td>aaai</td>\n",
       "      <td>Satinder P. Singh (ed.)</td>\n",
       "    </tr>\n",
       "    <tr>\n",
       "      <th>134490</th>\n",
       "      <td>conf/aaai/Sheh17</td>\n",
       "      <td>2017.0</td>\n",
       "      <td>\"Why Did You Do That?\" Explainable Intelligent...</td>\n",
       "      <td>aaai</td>\n",
       "      <td>Satinder P. Singh (ed.)</td>\n",
       "    </tr>\n",
       "  </tbody>\n",
       "</table>\n",
       "</div>"
      ],
      "text/plain": [
       "                   paper id publication year  \\\n",
       "36976        conf/aaai/2017           2017.0   \n",
       "38242       conf/aaai/2017w           2017.0   \n",
       "134421    conf/aaai/Luger17           2017.0   \n",
       "134437  conf/aaai/Beckers17           2017.0   \n",
       "134490     conf/aaai/Sheh17           2017.0   \n",
       "\n",
       "                                              paper title conference  \\\n",
       "36976   Proceedings of the Thirty-First AAAI Conferenc...       aaai   \n",
       "38242   The Workshops of the The Thirty-First AAAI Con...       aaai   \n",
       "134421  Beyond Mechanical Turk: Using Techniques from ...       aaai   \n",
       "134437  AAAI: An Argument Against Artificial Intellige...       aaai   \n",
       "134490  \"Why Did You Do That?\" Explainable Intelligent...       aaai   \n",
       "\n",
       "                         author  \n",
       "36976   Satinder P. Singh (ed.)  \n",
       "38242   Satinder P. Singh (ed.)  \n",
       "134421  Satinder P. Singh (ed.)  \n",
       "134437  Satinder P. Singh (ed.)  \n",
       "134490  Satinder P. Singh (ed.)  "
      ]
     },
     "execution_count": 122,
     "metadata": {},
     "output_type": "execute_result"
    }
   ],
   "source": [
    "# Check Satinder P. Singh (ed.)'s papers\n",
    "authors_in_conf[(authors_in_conf['author'] == 'Satinder P. Singh (ed.)') & (authors_in_conf['conference'] == 'aaai') & (authors_in_conf['publication year'] == '2017.0')].head()"
   ]
  },
  {
   "cell_type": "markdown",
   "metadata": {},
   "source": [
    "#### Explanation:\n",
    "The paper id in the dataframe consists of three parts: 1. character \"conf\", 2. conference name, 3. Surname of 1st author + Initial of 2nd or more authors' surname + year.\n",
    "Looking into the paper id of papers published by Sheila A. MacIlaith for aaai in 2018 and by Satiner P. Singh (ed.) in 2017, we find out that these id does not include their initials. By contrast, for papers published by Sheila A. MacIlaith for other conferences than aaai or for aaai before 2017, corresponding paper id seems to include her initial. \n",
    "The data on dblp (Sheila A. McIlraith and Satinder P. Singh) tells us that Sheila A, McIlraith did not published paper for aaai in 2018 but she published several papers for other conferences in 2018 and for aaai before 2017 and Satinder P. Singh neither published any paper in 2017. Regarding aaai conferences he worked only as an editor in 2017.\n",
    "So we remove following outliers from dataframe.\n",
    "\n",
    "- Sheila A, McIlraith's papers for aaai published in 2018\n",
    "- Satinder P. Singh's papers in 2017\n",
    "- Papers with no author"
   ]
  },
  {
   "cell_type": "markdown",
   "metadata": {},
   "source": [
    "#### Remove outliers from thr original dataframe and make a new plot to check the distribution without outliers"
   ]
  },
  {
   "cell_type": "code",
   "execution_count": 20,
   "metadata": {},
   "outputs": [],
   "source": [
    "# Remove outliers\n",
    "authors_in_conf = authors_in_conf[~(authors_in_conf['author'] == 'Sheila A. McIlraith') &\n",
    "                                  ~(authors_in_conf['conference'] == 'aaai') &\n",
    "                                  ~(authors_in_conf['publication year'] == '2018.0')]\n",
    "authors_in_conf = authors_in_conf[~authors_in_conf['author'].isin(['', 'Satinder P. Singh (ed.)'])]"
   ]
  },
  {
   "cell_type": "code",
   "execution_count": 21,
   "metadata": {},
   "outputs": [
    {
     "data": {
      "image/png": "[encoded data removed]",
      "text/plain": [
       "<Figure size 360x576 with 1 Axes>"
      ]
     },
     "metadata": {
      "needs_background": "light"
     },
     "output_type": "display_data"
    }
   ],
   "source": [
    "# Create a new plot showing the number of papers per author\n",
    "num_paper_per_author = (authors_in_conf\n",
    "                        .groupby('author')['paper id']\n",
    "                        .count()\n",
    "                        .reset_index()\n",
    "                        .rename(columns = {'paper id': 'counts'}))\n",
    "\n",
    "num_paper_per_author.sort_values(by = ['counts'], ascending = False).reset_index().drop(['index'], axis = 1)\n",
    "\n",
    "# # plot the figure (change to histogram or keep boxplot)\n",
    "plt.figure(figsize = (5, 8))\n",
    "plt.boxplot(num_paper_per_author['counts'])\n",
    "plt.grid()\n",
    "plt.xlabel('author')\n",
    "plt.ylabel('counts')\n",
    "plt.title('Number of paper produced by each author (after removing outliers)')\n",
    "plt.show()"
   ]
  },
  {
   "cell_type": "code",
   "execution_count": 22,
   "metadata": {},
   "outputs": [
    {
     "data": {
      "image/png": "[encoded data removed]",
      "text/plain": [
       "<Figure size 720x576 with 1 Axes>"
      ]
     },
     "metadata": {
      "needs_background": "light"
     },
     "output_type": "display_data"
    }
   ],
   "source": [
    "# Create a new plot showing activity of the authors\n",
    "num_paper_per_author = (authors_in_conf\n",
    "                        .groupby('author')['paper id']\n",
    "                        .count()\n",
    "                        .reset_index()\n",
    "                        .rename(columns = {'paper id': 'counts'}))\n",
    "\n",
    "plt.figure(figsize = (10, 8))\n",
    "bins_ = np.linspace(0, 240, 40)\n",
    "plt.hist(num_paper_per_author['counts'], bins=bins_)\n",
    "plt.gca().set_yscale('log')\n",
    "plt.grid()\n",
    "plt.title('Authors count of published papers (after outlier detection)')\n",
    "plt.xlabel('papers')\n",
    "plt.ylabel('authors')\n",
    "plt.show()"
   ]
  },
  {
   "cell_type": "markdown",
   "metadata": {},
   "source": [
    "***A3.2***"
   ]
  },
  {
   "cell_type": "markdown",
   "metadata": {},
   "source": [
    "#### First, without any processing and cleaning, we make a plot to view number of papers every year. Then, after finding varied formats of years, we arrange an unified format for years."
   ]
  },
  {
   "cell_type": "code",
   "execution_count": 23,
   "metadata": {},
   "outputs": [
    {
     "data": {
      "image/png": "[encoded data removed]",
      "text/plain": [
       "<Figure size 2880x1440 with 1 Axes>"
      ]
     },
     "metadata": {
      "needs_background": "light"
     },
     "output_type": "display_data"
    }
   ],
   "source": [
    "# plot of uncleaned data\n",
    "num_paper_per_year = ((papers_in_conf.reset_index())\n",
    "                     .groupby('publication year')['paper id']\n",
    "                     .count()\n",
    "                     .reset_index()\n",
    "                     .rename(columns = {'paper id': 'counts'}))\n",
    "\n",
    "plt.figure(figsize=(40, 20))\n",
    "plt.bar(num_paper_per_year['publication year'], num_paper_per_year['counts'])\n",
    "plt.xticks(rotation=60)\n",
    "plt.xlabel('Publication year', fontsize= 25)\n",
    "plt.ylabel('Number of Papers', fontsize = 25)\n",
    "plt.title('Number of papers every year', fontsize = 40)\n",
    "plt.show()"
   ]
  },
  {
   "cell_type": "markdown",
   "metadata": {},
   "source": [
    "#### Explanation:\n",
    "1. Before cleaning, data in the column of year vary a lot. A lot of different year formats exist in our given dataset. Thus, it is needed to arrange the same format for all of the year data inside the dataset.  "
   ]
  },
  {
   "cell_type": "code",
   "execution_count": 24,
   "metadata": {
    "scrolled": true
   },
   "outputs": [],
   "source": [
    "# Clean the data format in the column, \"publication year\"\n",
    "\n",
    "# A function recognizes a possible year when the paper is published\n",
    "def year_recog(year):\n",
    "    if year[0] == '\\'':\n",
    "        year = year[1:]\n",
    "        if int(year) < 19:\n",
    "            return \"20\"+year\n",
    "        else:\n",
    "            return \"19\"+year\n",
    "    else:\n",
    "        return year\n",
    "\n",
    "# Get rid of unrelevant string components in the column, 'publication year'\n",
    "authors_in_conf['publication year'] = (authors_in_conf['publication year']\n",
    "                                       .str.lstrip('<i><em>')\n",
    "                                       .str.rstrip('</i></em>')\n",
    "                                       .apply(year_recog)\n",
    "                                       .apply(lambda year: year[:4] if year != '?' else year))\n",
    "\n",
    "papers_in_conf['publication year'] = (papers_in_conf['publication year']\n",
    "                                       .str.lstrip('<i><em>')\n",
    "                                       .str.rstrip('</i></em>')\n",
    "                                       .apply(year_recog)\n",
    "                                       .apply(lambda year: year[:4] if year != '?' else year))\n"
   ]
  },
  {
   "cell_type": "code",
   "execution_count": 25,
   "metadata": {},
   "outputs": [
    {
     "data": {
      "image/png": "[encoded data removed]",
      "text/plain": [
       "<Figure size 1440x720 with 1 Axes>"
      ]
     },
     "metadata": {
      "needs_background": "light"
     },
     "output_type": "display_data"
    }
   ],
   "source": [
    "# Plot the number of papers per year\n",
    "\n",
    "num_paper_per_year = ((papers_in_conf.reset_index())\n",
    "                     .groupby('publication year')['paper id']\n",
    "                     .count()\n",
    "                     .reset_index()\n",
    "                     .rename(columns = {'paper id': 'counts'}))\n",
    "\n",
    "num_paper_per_year = num_paper_per_year.append(pd.DataFrame({'publication year': ['1970', '1972', '1974', '1976', '1978'], \n",
    "                                                             'counts': [0, 0, 0, 0, 0]}))\n",
    "num_paper_per_year.sort_values('publication year', inplace=True)\n",
    "num_paper_per_year = num_paper_per_year.reset_index().drop(columns=['index'])\n",
    "\n",
    "plt.figure(figsize=(20, 10))\n",
    "plt.bar(num_paper_per_year['publication year'], num_paper_per_year['counts'])\n",
    "plt.xticks(rotation=60)\n",
    "plt.xlabel('Publication year')\n",
    "plt.ylabel('Number of Papers')\n",
    "plt.title('Number of papers every year')\n",
    "plt.show()"
   ]
  },
  {
   "cell_type": "markdown",
   "metadata": {},
   "source": [
    "#### Explanation:\n",
    "1. After cleaning, our visualization for number of papers every year becomes much clear and concise. However, there are still some missing year, marked with ?, we cannot resolve yet now."
   ]
  },
  {
   "cell_type": "markdown",
   "metadata": {},
   "source": [
    "***A3.3***"
   ]
  },
  {
   "cell_type": "markdown",
   "metadata": {},
   "source": [
    "#### Select ML conferences, ICML and NIPS, to see its distribution"
   ]
  },
  {
   "cell_type": "code",
   "execution_count": 26,
   "metadata": {},
   "outputs": [
    {
     "data": {
      "image/png": "[encoded data removed]",
      "text/plain": [
       "<Figure size 1440x720 with 1 Axes>"
      ]
     },
     "metadata": {
      "needs_background": "light"
     },
     "output_type": "display_data"
    }
   ],
   "source": [
    "mlconf = ['icml', 'nips']\n",
    "\n",
    "# Create a dataframe containing the papers published in ML conferences\n",
    "mlpapers = papers_in_conf[papers_in_conf['conference'].isin(mlconf)]\n",
    "\n",
    "# Count the pubblications per year\n",
    "num_mlpaper_per_year = ((mlpapers.reset_index())\n",
    "                        .groupby(['publication year', 'conference'])['paper id']\n",
    "                        .count()\n",
    "                        .reset_index()\n",
    "                        .rename(columns = {'paper id': 'counts'}))\n",
    "\n",
    "# Split into two dataframes, one per conference\n",
    "nips_per_year = num_mlpaper_per_year[num_mlpaper_per_year['conference'] == 'nips'].reset_index().drop(columns=['index'])\n",
    "icml_per_year = num_mlpaper_per_year[num_mlpaper_per_year['conference'] == 'icml'].reset_index().drop(columns=['index'])\n",
    "\n",
    "# Add 1987 and '?' to icml (counts = 0)\n",
    "icml_per_year = icml_per_year.append(pd.DataFrame({'publication year': ['1987'], 'conference': ['icml'], 'counts': [0]}))\n",
    "icml_per_year = icml_per_year.append(pd.DataFrame({'publication year': ['?'], 'conference': ['icml'], 'counts': [0]}))\n",
    "icml_per_year.sort_values('publication year', inplace=True)\n",
    "icml_per_year = icml_per_year.reset_index().drop(columns=['index'])\n",
    "\n",
    "# Add 2010 and 2011 to nips (counts = 0)\n",
    "nips_per_year = nips_per_year.append(pd.DataFrame({'publication year': ['2010'], 'conference': ['nips'], 'counts': [0]}))\n",
    "nips_per_year = nips_per_year.append(pd.DataFrame({'publication year': ['2011'], 'conference': ['nips'], 'counts': [0]}))\n",
    "nips_per_year.sort_values('publication year', inplace=True)\n",
    "nips_per_year = nips_per_year.reset_index().drop(columns=['index'])\n",
    "\n",
    "# Stacked barplot\n",
    "plt.figure(figsize=(20, 10))\n",
    "plt.bar(nips_per_year['publication year'], nips_per_year['counts'])\n",
    "plt.bar(icml_per_year['publication year'], icml_per_year['counts'], bottom=nips_per_year['counts'])\n",
    "plt.legend(['icml', 'nips'])\n",
    "plt.xticks(rotation=60)\n",
    "plt.xlabel('Publication year')\n",
    "plt.ylabel('Number of Papers')\n",
    "plt.title('Number of papers every year')\n",
    "plt.show()"
   ]
  },
  {
   "cell_type": "markdown",
   "metadata": {},
   "source": [
    "#### Explanation:\n",
    "1. From the plot, we can see that the trend grows almost exponentially. (Ignore the year with \"?\")\n",
    "2. However, in 2010 and 2011, number of ML papers sharply drops, violating the trend we expect. Thus, we suspect that there are some missing value in the given dataset."
   ]
  },
  {
   "cell_type": "markdown",
   "metadata": {},
   "source": [
    "***A3.4***"
   ]
  },
  {
   "cell_type": "code",
   "execution_count": 27,
   "metadata": {},
   "outputs": [
    {
     "data": {
      "text/html": [
       "<div>\n",
       "<style scoped>\n",
       "    .dataframe tbody tr th:only-of-type {\n",
       "        vertical-align: middle;\n",
       "    }\n",
       "\n",
       "    .dataframe tbody tr th {\n",
       "        vertical-align: top;\n",
       "    }\n",
       "\n",
       "    .dataframe thead th {\n",
       "        text-align: right;\n",
       "    }\n",
       "</style>\n",
       "<table border=\"1\" class=\"dataframe\">\n",
       "  <thead>\n",
       "    <tr style=\"text-align: right;\">\n",
       "      <th></th>\n",
       "      <th>paper title</th>\n",
       "      <th>publication year</th>\n",
       "    </tr>\n",
       "  </thead>\n",
       "  <tbody>\n",
       "    <tr>\n",
       "      <th>0</th>\n",
       "      <td>Efficient Algorithms for Non-convex Isotonic R...</td>\n",
       "      <td>2018</td>\n",
       "    </tr>\n",
       "    <tr>\n",
       "      <th>1</th>\n",
       "      <td>Structure-Aware Convolutional Neural Networks</td>\n",
       "      <td>2018</td>\n",
       "    </tr>\n",
       "    <tr>\n",
       "      <th>2</th>\n",
       "      <td>Kalman Normalization: Normalizing Internal Rep...</td>\n",
       "      <td>2018</td>\n",
       "    </tr>\n",
       "    <tr>\n",
       "      <th>3</th>\n",
       "      <td>HOGWILD!-Gibbs can be PanAccurate</td>\n",
       "      <td>2018</td>\n",
       "    </tr>\n",
       "    <tr>\n",
       "      <th>4</th>\n",
       "      <td>Text-Adaptive Generative Adversarial Networks:...</td>\n",
       "      <td>2018</td>\n",
       "    </tr>\n",
       "  </tbody>\n",
       "</table>\n",
       "</div>"
      ],
      "text/plain": [
       "                                         paper title publication year\n",
       "0  Efficient Algorithms for Non-convex Isotonic R...             2018\n",
       "1      Structure-Aware Convolutional Neural Networks             2018\n",
       "2  Kalman Normalization: Normalizing Internal Rep...             2018\n",
       "3                  HOGWILD!-Gibbs can be PanAccurate             2018\n",
       "4  Text-Adaptive Generative Adversarial Networks:...             2018"
      ]
     },
     "execution_count": 27,
     "metadata": {},
     "output_type": "execute_result"
    }
   ],
   "source": [
    "# do web scraping from nips website to grasp paper title and corresponding year to dataframe (also need to add authors' name to update missing authors)\n",
    "r = get('https://papers.nips.cc/')\n",
    "page_body = r.text\n",
    "soup = BeautifulSoup(page_body, 'html.parser')\n",
    "all_links = soup.find_all('a')\n",
    "all_data = {'paper title': [], 'publication year':[]}\n",
    "\n",
    "for link in all_links:\n",
    "    paper_url = link.get('href')\n",
    "    if paper_url.startswith('/book'):\n",
    "        r_paper = get('https://papers.nips.cc/' + paper_url)\n",
    "        soup_paper = BeautifulSoup(r_paper.text, 'html.parser')\n",
    "        paper_a_tag = soup_paper.select('ul a')\n",
    "        for a_tag in paper_a_tag:\n",
    "            if a_tag['href'].startswith('/paper'):\n",
    "                all_data['publication year'].append(soup_paper.title.text.split()[1])\n",
    "                all_data['paper title'].append(a_tag.text)\n",
    "\n",
    "all_data_df = pd.DataFrame(all_data)\n",
    "all_data_df.head()"
   ]
  },
  {
   "cell_type": "code",
   "execution_count": 28,
   "metadata": {},
   "outputs": [],
   "source": [
    "# remove punctuation in the paper titles for original paper-centric dataframe and web-scraped dataframe\n",
    "papers_in_conf_comp = papers_in_conf.copy()\n",
    "papers_in_conf_comp['paper title'] = (papers_in_conf_comp['paper title']\n",
    "                                      .str.replace(r'[^\\w\\s]+', '')\n",
    "                                      .str.normalize('NFKD')\n",
    "                                      .str.encode('ascii', errors='ignore')\n",
    "                                      .str.decode('utf-8'))\n",
    "all_data_df['paper title'] = (all_data_df['paper title']\n",
    "                              .str.replace(r'[^\\w\\s]+', '')\n",
    "                              .str.normalize('NFKD')\n",
    "                              .str.encode('ascii', errors='ignore')\n",
    "                              .str.decode('utf-8'))\n",
    "\n",
    "# fill in the year value that is missing in the original dataframe\n",
    "for indx, row in papers_in_conf_comp.iterrows():\n",
    "    if row['publication year'] == '?':\n",
    "        paper_title = row['paper title'].replace(r'[^\\w\\s]+', '')\n",
    "        if len(all_data_df.loc[all_data_df['paper title'] == paper_title, 'publication year'].values) != 0:\n",
    "            year = all_data_df.loc[all_data_df['paper title'] == paper_title, 'publication year'].values[0]\n",
    "            papers_in_conf_comp.at[indx, 'publication year'] = str(year)"
   ]
  },
  {
   "cell_type": "code",
   "execution_count": 29,
   "metadata": {},
   "outputs": [
    {
     "data": {
      "image/png": "[encoded data removed]",
      "text/plain": [
       "<Figure size 1440x720 with 1 Axes>"
      ]
     },
     "metadata": {
      "needs_background": "light"
     },
     "output_type": "display_data"
    }
   ],
   "source": [
    "# Make a plot to see number of papers every year \n",
    "num_paper_per_year_comp = ((papers_in_conf_comp.reset_index())\n",
    "                           .groupby('publication year')['paper id']\n",
    "                           .count()\n",
    "                           .reset_index()\n",
    "                           .rename(columns = {'paper id': 'counts'}))\n",
    "\n",
    "num_paper_per_year_comp = num_paper_per_year_comp.append(pd.DataFrame({'publication year': ['1970', '1972', '1974', '1976', '1978'], \n",
    "                                                             'counts': [0, 0, 0, 0, 0]}))\n",
    "num_paper_per_year_comp.sort_values('publication year', inplace=True)\n",
    "num_paper_per_year_comp = num_paper_per_year_comp.reset_index().drop(columns=['index'])\n",
    "                             \n",
    "plt.figure(figsize=(20, 10))\n",
    "plt.bar(num_paper_per_year_comp['publication year'], num_paper_per_year_comp['counts'])\n",
    "plt.xticks(rotation=60)\n",
    "plt.xlabel('Publication year')\n",
    "plt.ylabel('Number of Papers')\n",
    "plt.title('Number of papers for every year')\n",
    "plt.show()"
   ]
  },
  {
   "cell_type": "code",
   "execution_count": 30,
   "metadata": {},
   "outputs": [
    {
     "data": {
      "image/png": "[encoded data removed]",
      "text/plain": [
       "<Figure size 1440x720 with 1 Axes>"
      ]
     },
     "metadata": {
      "needs_background": "light"
     },
     "output_type": "display_data"
    }
   ],
   "source": [
    "# Create a dataframe containing the papers published in ML conferences\n",
    "mlpapers_comp = papers_in_conf_comp[papers_in_conf_comp['conference'].isin(mlconf)]\n",
    "\n",
    "# Count the pubblications per year\n",
    "num_mlpaper_per_year_comp = ((mlpapers_comp.reset_index())\n",
    "                        .groupby(['publication year', 'conference'])['paper id']\n",
    "                        .count()\n",
    "                        .reset_index()\n",
    "                        .rename(columns = {'paper id': 'counts'}))\n",
    "\n",
    "# Split into two dataframes, one per conference\n",
    "nips_per_year = num_mlpaper_per_year_comp[num_mlpaper_per_year_comp['conference'] == 'nips'].reset_index().drop(columns=['index'])\n",
    "icml_per_year = num_mlpaper_per_year_comp[num_mlpaper_per_year_comp['conference'] == 'icml'].reset_index().drop(columns=['index'])\n",
    "\n",
    "# Add 1987 and '?' to icml (counts = 0)\n",
    "icml_per_year = icml_per_year.append(pd.DataFrame({'publication year': ['1987'], 'conference': ['icml'], 'counts': [0]}))\n",
    "icml_per_year = icml_per_year.append(pd.DataFrame({'publication year': ['?'], 'conference': ['icml'], 'counts': [0]}))\n",
    "icml_per_year.sort_values('publication year', inplace=True)\n",
    "icml_per_year = icml_per_year.reset_index().drop(columns=['index'])\n",
    "\n",
    "# Stacked barplot\n",
    "plt.figure(figsize=(20, 10))\n",
    "plt.bar(nips_per_year['publication year'], nips_per_year['counts'])\n",
    "plt.bar(icml_per_year['publication year'], icml_per_year['counts'], bottom=nips_per_year['counts'])\n",
    "plt.legend(['icml', 'nips'])\n",
    "plt.xticks(rotation=60)\n",
    "plt.xlabel('Publication year')\n",
    "plt.ylabel('Number of Papers')\n",
    "plt.title('Number of papers every year')\n",
    "plt.show()"
   ]
  },
  {
   "cell_type": "code",
   "execution_count": 31,
   "metadata": {},
   "outputs": [],
   "source": [
    "# remove any paper that still has missing value\n",
    "papers_in_conf = papers_in_conf[papers_in_conf['publication year'] != '?']\n",
    "authors_in_conf = authors_in_conf[authors_in_conf['publication year'] != '?']"
   ]
  },
  {
   "cell_type": "markdown",
   "metadata": {
    "colab_type": "text",
    "id": "0h0Zw8cPTyEp"
   },
   "source": [
    "### A4. Author activity\n",
    "\n",
    "For each author, calculate their normalized paper count, defined as the total number of papers divided by the author’s period of activity. An author’s period of activity is defined as the number of years between the earliest and latest papers of this author. Plot the distribution of the normalized paper count. What is the appropriate scale for the axes? Does the distribution (roughly) follow a particular law, and if yes, which one?"
   ]
  },
  {
   "cell_type": "code",
   "execution_count": 32,
   "metadata": {
    "colab": {},
    "colab_type": "code",
    "id": "dGV5GAndl6LE"
   },
   "outputs": [
    {
     "data": {
      "image/png": "[encoded data removed]",
      "text/plain": [
       "<Figure size 432x288 with 1 Axes>"
      ]
     },
     "metadata": {
      "needs_background": "light"
     },
     "output_type": "display_data"
    }
   ],
   "source": [
    "# group the author-centric dataframe by the column, author (suggestion: use seaborn to make plots)\n",
    "authors_in_conf['publication year'] = authors_in_conf['publication year'].astype(int)\n",
    "num_paper_per_author_year = (authors_in_conf\n",
    "                             .groupby('author')\n",
    "                             .agg({'paper id': 'count', 'publication year': ['max', 'min']})\n",
    "                             .reset_index()\n",
    "                             .rename(columns = {'paper id': 'counts'}))\n",
    "                             \n",
    "# get rid of redundant double quotes from authors\n",
    "num_paper_per_author_year['author'] = num_paper_per_author_year['author'].str.strip('\\\"')\n",
    "\n",
    "# add a new column indicating the difference between latest year and earliest year\n",
    "num_paper_per_author_year['diff'] = num_paper_per_author_year['publication year', 'max'] - num_paper_per_author_year['publication year', 'min'] + 1\n",
    "\n",
    "# add a new column specifying the activity of each author\n",
    "num_paper_per_author_year['activity'] = num_paper_per_author_year['counts', 'count'] / num_paper_per_author_year['diff']\n",
    "\n",
    "# show the plot \n",
    "plt.hist(num_paper_per_author_year['activity'], bins = 50)\n",
    "plt.xlabel('activity')\n",
    "plt.ylabel('counts')\n",
    "plt.title('Distribution of activity')\n",
    "plt.show()"
   ]
  },
  {
   "cell_type": "code",
   "execution_count": 33,
   "metadata": {},
   "outputs": [
    {
     "data": {
      "image/png": "[encoded data removed]",
      "text/plain": [
       "<Figure size 432x288 with 1 Axes>"
      ]
     },
     "metadata": {
      "needs_background": "light"
     },
     "output_type": "display_data"
    }
   ],
   "source": [
    "# original activity distribution with log-log axes\n",
    "plt.hist(num_paper_per_author_year['activity'], bins = np.logspace(np.log10(0.1), np.log10(20), 100))\n",
    "plt.yscale('log')\n",
    "plt.xscale('log')\n",
    "plt.xlabel('activity')\n",
    "plt.ylabel('counts')\n",
    "plt.title('Distribution of activity (log-log axes)')\n",
    "plt.show()"
   ]
  },
  {
   "cell_type": "markdown",
   "metadata": {},
   "source": [
    "#### Explanation:\n",
    "1. Since the distribution of authors' activity is heavy-tailed, we also choose to use log-log axes. From the plot, it roughly looks like the log normal distribution."
   ]
  },
  {
   "cell_type": "markdown",
   "metadata": {
    "colab_type": "text",
    "id": "ZM7pH8Y_UF3H"
   },
   "source": [
    "## Task B. Ranking authors\n",
    "\n",
    "As you may know, there exist rankings for universities, which represent their relative quality and are used to compare the performance of different universities. In the same vein, there are rankings for conferences and journals, which represent the importance and impact of each conference or journal, and therefore allow for approximate comparisons. In this part, you will rank authors based on different aspects of their research output.\n",
    "\n",
    "### B1. A Naïve Score\n",
    "\n",
    "In the absence of citation counts, it is hard to objectively rank the authors based on the impact of their contributions to the field of AI research. A naïve way would be to rank them based on their number of published papers. Obtain such a ranking and analyze your result. Identify and explain some obvious limitations of this scheme."
   ]
  },
  {
   "cell_type": "code",
   "execution_count": 46,
   "metadata": {},
   "outputs": [
    {
     "data": {
      "text/html": [
       "<div>\n",
       "<style scoped>\n",
       "    .dataframe tbody tr th:only-of-type {\n",
       "        vertical-align: middle;\n",
       "    }\n",
       "\n",
       "    .dataframe tbody tr th {\n",
       "        vertical-align: top;\n",
       "    }\n",
       "\n",
       "    .dataframe thead th {\n",
       "        text-align: right;\n",
       "    }\n",
       "</style>\n",
       "<table border=\"1\" class=\"dataframe\">\n",
       "  <thead>\n",
       "    <tr style=\"text-align: right;\">\n",
       "      <th></th>\n",
       "      <th>author</th>\n",
       "      <th>papers number</th>\n",
       "      <th>naive rank</th>\n",
       "    </tr>\n",
       "  </thead>\n",
       "  <tbody>\n",
       "    <tr>\n",
       "      <th>0</th>\n",
       "      <td>Luc Van Gool</td>\n",
       "      <td>196</td>\n",
       "      <td>1</td>\n",
       "    </tr>\n",
       "    <tr>\n",
       "      <th>1</th>\n",
       "      <td>Toshio Fukuda</td>\n",
       "      <td>194</td>\n",
       "      <td>2</td>\n",
       "    </tr>\n",
       "    <tr>\n",
       "      <th>2</th>\n",
       "      <td>Thomas S. Huang</td>\n",
       "      <td>170</td>\n",
       "      <td>3</td>\n",
       "    </tr>\n",
       "    <tr>\n",
       "      <th>3</th>\n",
       "      <td>Michael I. Jordan</td>\n",
       "      <td>152</td>\n",
       "      <td>4</td>\n",
       "    </tr>\n",
       "    <tr>\n",
       "      <th>4</th>\n",
       "      <td>Takeo Kanade</td>\n",
       "      <td>148</td>\n",
       "      <td>5</td>\n",
       "    </tr>\n",
       "  </tbody>\n",
       "</table>\n",
       "</div>"
      ],
      "text/plain": [
       "              author  papers number  naive rank\n",
       "0       Luc Van Gool            196           1\n",
       "1      Toshio Fukuda            194           2\n",
       "2    Thomas S. Huang            170           3\n",
       "3  Michael I. Jordan            152           4\n",
       "4       Takeo Kanade            148           5"
      ]
     },
     "execution_count": 46,
     "metadata": {},
     "output_type": "execute_result"
    }
   ],
   "source": [
    "# construct a dataframe to record the number of papers for each author\n",
    "author_rank = (authors_in_conf\n",
    "               .groupby('author')['paper id']\n",
    "               .count()\n",
    "               .reset_index()\n",
    "               .rename(columns = {'paper id': 'papers number'}))\n",
    "\n",
    "# remove empty value in author column and rank according to number of papers \n",
    "author_rank = author_rank[author_rank['author'] != '']\n",
    "author_rank = author_rank.sort_values(by = 'papers number', ascending = False).reset_index().drop('index', axis = 1)\n",
    "author_rank['naive rank'] = np.arange(1, author_rank.shape[0]+1)\n",
    "author_rank.head()"
   ]
  },
  {
   "cell_type": "markdown",
   "metadata": {},
   "source": [
    "#### Explanation:\n",
    "**Naive ranking**\n",
    "\n",
    "*pros*:\n",
    "\n",
    "\\+ Simple to be computed\n",
    "\n",
    "and *cons*:\n",
    "\n",
    "\\- Ranking based on publication count does not take into account the quality of the conferences. This leads to an over-estimation of authors that publish many papers in low-quality conferences.\n",
    "\n",
    "\\- Old researchers are always advantaged with respect to younger ones (they had more time to publish).\n",
    "\n",
    "\\- Citations are not considered.\n",
    "\n",
    "\\- This kind of ranking does not have good resolution: many authors have published few papers leading to many equal scores in the ranking and such a discrete index makes it difficul to order them."
   ]
  },
  {
   "cell_type": "markdown",
   "metadata": {},
   "source": [
    "### B2. H5-index\n",
    "\n",
    "Another way to score and rank authors could be based on the quality of the conferences and journals where they publish their papers. For this task, you have to use the H5-index score from AMiner (https://aminer.org/ranks/conf) (another database of scholarly publications), which captures the quality of academic conferences: the higher the H5-index, the better the conference.\n",
    "1. Load the AMiner dataset ( *'aminer_ai.tsv'* available in the folder ``data/``), which contains H5-index values for AI conferences. Load it into a new Pandas dataframe, and join it with the author-centric DBLP dataframe.\n",
    "2. Calculate a *'new'* author ranking (give each author a score, by which the authors are then sorted in order to obtain the ranking), where each author's score is the sum of the H5-indices of all their papers (the H5-index of a paper being the H5-index of the conference it is published in).\n",
    "3. Analyze your new, H5-index-based author ranking and explain how and why your results are different from the previous ranking. Do you see any differences in the top-20 authors based on the H5-index-based ranking and the one produced using publication counts? If yes, list the authors that are ranked in the top 20 based on publication counts but absent in the top 20 based on the H5-index-based ranking. Identify the ranks of these authors in the ranking produced by the H5-index based ranking scheme.\n",
    "4. Now, take the authors in the file `data/list_of_selected_authors.txt`, and compute their rankings using the two (naïve and H5-index-based) ranking schemes. What do you observe? Explain the potential dangers of the naïve, paper-count-based score.\n",
    "5. On the flip side, do you see any potential dangers of using the H5-index-based score?   \n",
    "_Hint: Analyze the conferences in which the top ranked authors publish. Investigate the effect of the conferences in which these authors publish more frequently on the obtained ranking._"
   ]
  },
  {
   "cell_type": "markdown",
   "metadata": {},
   "source": [
    "***B2.1***"
   ]
  },
  {
   "cell_type": "markdown",
   "metadata": {},
   "source": [
    "#### Load AMiner dataset into a new dataframe and join it with the author-centric dataframe"
   ]
  },
  {
   "cell_type": "code",
   "execution_count": 47,
   "metadata": {},
   "outputs": [
    {
     "data": {
      "text/html": [
       "<div>\n",
       "<style scoped>\n",
       "    .dataframe tbody tr th:only-of-type {\n",
       "        vertical-align: middle;\n",
       "    }\n",
       "\n",
       "    .dataframe tbody tr th {\n",
       "        vertical-align: top;\n",
       "    }\n",
       "\n",
       "    .dataframe thead th {\n",
       "        text-align: right;\n",
       "    }\n",
       "</style>\n",
       "<table border=\"1\" class=\"dataframe\">\n",
       "  <thead>\n",
       "    <tr style=\"text-align: right;\">\n",
       "      <th></th>\n",
       "      <th>paper id</th>\n",
       "      <th>publication year</th>\n",
       "      <th>paper title</th>\n",
       "      <th>conference</th>\n",
       "      <th>author</th>\n",
       "      <th>rank</th>\n",
       "      <th>conference (full name)</th>\n",
       "      <th>h5-index</th>\n",
       "    </tr>\n",
       "  </thead>\n",
       "  <tbody>\n",
       "    <tr>\n",
       "      <th>0</th>\n",
       "      <td>conf/iccv/KunoOO90</td>\n",
       "      <td>1990</td>\n",
       "      <td>Object recognition using a feature search stra...</td>\n",
       "      <td>iccv</td>\n",
       "      <td>Yoshinori Kuno</td>\n",
       "      <td>6</td>\n",
       "      <td>International Conference on Computer Vision</td>\n",
       "      <td>58</td>\n",
       "    </tr>\n",
       "    <tr>\n",
       "      <th>1</th>\n",
       "      <td>conf/iccv/VedulaBRCK99</td>\n",
       "      <td>1999</td>\n",
       "      <td>Three-Dimensional Scene Flow.</td>\n",
       "      <td>iccv</td>\n",
       "      <td>Sundar Vedula</td>\n",
       "      <td>6</td>\n",
       "      <td>International Conference on Computer Vision</td>\n",
       "      <td>58</td>\n",
       "    </tr>\n",
       "    <tr>\n",
       "      <th>2</th>\n",
       "      <td>conf/iccv/MeminP99</td>\n",
       "      <td>1999</td>\n",
       "      <td>Fluid Motion Recovery by Coupling Dense and Pa...</td>\n",
       "      <td>iccv</td>\n",
       "      <td>Étienne Mémin</td>\n",
       "      <td>6</td>\n",
       "      <td>International Conference on Computer Vision</td>\n",
       "      <td>58</td>\n",
       "    </tr>\n",
       "    <tr>\n",
       "      <th>3</th>\n",
       "      <td>conf/iccv/DickinsonPR90</td>\n",
       "      <td>1990</td>\n",
       "      <td>Qualitative 3-D shape reconstruction using dis...</td>\n",
       "      <td>iccv</td>\n",
       "      <td>Sven J. Dickinson</td>\n",
       "      <td>6</td>\n",
       "      <td>International Conference on Computer Vision</td>\n",
       "      <td>58</td>\n",
       "    </tr>\n",
       "    <tr>\n",
       "      <th>4</th>\n",
       "      <td>conf/iccv/SinghYL17</td>\n",
       "      <td>2017</td>\n",
       "      <td>GPLAC: Generalizing Vision-Based Robotic Skill...</td>\n",
       "      <td>iccv</td>\n",
       "      <td>Avi Singh</td>\n",
       "      <td>6</td>\n",
       "      <td>International Conference on Computer Vision</td>\n",
       "      <td>58</td>\n",
       "    </tr>\n",
       "  </tbody>\n",
       "</table>\n",
       "</div>"
      ],
      "text/plain": [
       "                  paper id  publication year  \\\n",
       "0       conf/iccv/KunoOO90              1990   \n",
       "1   conf/iccv/VedulaBRCK99              1999   \n",
       "2       conf/iccv/MeminP99              1999   \n",
       "3  conf/iccv/DickinsonPR90              1990   \n",
       "4      conf/iccv/SinghYL17              2017   \n",
       "\n",
       "                                         paper title conference  \\\n",
       "0  Object recognition using a feature search stra...       iccv   \n",
       "1                      Three-Dimensional Scene Flow.       iccv   \n",
       "2  Fluid Motion Recovery by Coupling Dense and Pa...       iccv   \n",
       "3  Qualitative 3-D shape reconstruction using dis...       iccv   \n",
       "4  GPLAC: Generalizing Vision-Based Robotic Skill...       iccv   \n",
       "\n",
       "              author  rank                       conference (full name)  \\\n",
       "0     Yoshinori Kuno     6  International Conference on Computer Vision   \n",
       "1      Sundar Vedula     6  International Conference on Computer Vision   \n",
       "2      Étienne Mémin     6  International Conference on Computer Vision   \n",
       "3  Sven J. Dickinson     6  International Conference on Computer Vision   \n",
       "4          Avi Singh     6  International Conference on Computer Vision   \n",
       "\n",
       "   h5-index  \n",
       "0        58  \n",
       "1        58  \n",
       "2        58  \n",
       "3        58  \n",
       "4        58  "
      ]
     },
     "execution_count": 47,
     "metadata": {},
     "output_type": "execute_result"
    }
   ],
   "source": [
    "# Load AMiner dataset\n",
    "aminer = pd.read_csv('./data/aminer_ai.csv', sep = ';')\n",
    "aminer.columns = ['rank', 'conference (full name)', 'conference', 'h5-index']\n",
    "aminer['conference'] = aminer['conference'].str.lower()\n",
    "\n",
    "# merge author-centric dataframe and aminer dataframe\n",
    "authors_in_conf_rank = pd.merge(authors_in_conf, aminer)\n",
    "authors_in_conf_rank.head()"
   ]
  },
  {
   "cell_type": "markdown",
   "metadata": {},
   "source": [
    "***B2.2***"
   ]
  },
  {
   "cell_type": "markdown",
   "metadata": {},
   "source": [
    "#### Compute each author's total h5-index score and calculate their ranking"
   ]
  },
  {
   "cell_type": "code",
   "execution_count": 48,
   "metadata": {},
   "outputs": [
    {
     "data": {
      "text/html": [
       "<div>\n",
       "<style scoped>\n",
       "    .dataframe tbody tr th:only-of-type {\n",
       "        vertical-align: middle;\n",
       "    }\n",
       "\n",
       "    .dataframe tbody tr th {\n",
       "        vertical-align: top;\n",
       "    }\n",
       "\n",
       "    .dataframe thead th {\n",
       "        text-align: right;\n",
       "    }\n",
       "</style>\n",
       "<table border=\"1\" class=\"dataframe\">\n",
       "  <thead>\n",
       "    <tr style=\"text-align: right;\">\n",
       "      <th></th>\n",
       "      <th>author</th>\n",
       "      <th>H5 score</th>\n",
       "      <th>H5 rank</th>\n",
       "    </tr>\n",
       "  </thead>\n",
       "  <tbody>\n",
       "    <tr>\n",
       "      <th>0</th>\n",
       "      <td>Luc Van Gool</td>\n",
       "      <td>16374</td>\n",
       "      <td>1</td>\n",
       "    </tr>\n",
       "    <tr>\n",
       "      <th>1</th>\n",
       "      <td>Thomas S. Huang</td>\n",
       "      <td>13003</td>\n",
       "      <td>2</td>\n",
       "    </tr>\n",
       "    <tr>\n",
       "      <th>2</th>\n",
       "      <td>Xiaoou Tang</td>\n",
       "      <td>12546</td>\n",
       "      <td>3</td>\n",
       "    </tr>\n",
       "    <tr>\n",
       "      <th>3</th>\n",
       "      <td>Trevor Darrell</td>\n",
       "      <td>11752</td>\n",
       "      <td>4</td>\n",
       "    </tr>\n",
       "    <tr>\n",
       "      <th>4</th>\n",
       "      <td>Shuicheng Yan</td>\n",
       "      <td>11333</td>\n",
       "      <td>5</td>\n",
       "    </tr>\n",
       "  </tbody>\n",
       "</table>\n",
       "</div>"
      ],
      "text/plain": [
       "            author  H5 score  H5 rank\n",
       "0     Luc Van Gool     16374        1\n",
       "1  Thomas S. Huang     13003        2\n",
       "2      Xiaoou Tang     12546        3\n",
       "3   Trevor Darrell     11752        4\n",
       "4    Shuicheng Yan     11333        5"
      ]
     },
     "execution_count": 48,
     "metadata": {},
     "output_type": "execute_result"
    }
   ],
   "source": [
    "# Create a dataframe containing authors' total h5-index score in each conference\n",
    "author_rank_comp = (authors_in_conf_rank\n",
    "                    .groupby(['author', 'conference'])['h5-index']\n",
    "                    .sum()\n",
    "                    .reset_index()\n",
    "                    .rename(columns = {'h5-index': 'H5 score'}))\n",
    "\n",
    "# Group authors in the dataframe and count their total h5-index score \n",
    "author_rank_comp = author_rank_comp.groupby('author')['H5 score'].sum().reset_index()\n",
    "author_rank_comp = author_rank_comp.sort_values(by = 'H5 score', ascending = False).reset_index().drop('index', axis = 1)\n",
    "author_rank_comp['H5 rank'] = np.arange(1, author_rank_comp.shape[0]+1)\n",
    "author_rank_comp.head()"
   ]
  },
  {
   "cell_type": "markdown",
   "metadata": {},
   "source": [
    "#### Explanation:\n",
    "**H5 ranking** \n",
    "\n",
    "*pros*:\n",
    "\n",
    "\\+ Better resolution than naive score: it is more unlikely that two auhtors have the same exact score.\n",
    "\n",
    "\\+ Quality of the papers is now considered by including the conference relevance.\n",
    "\n",
    "and *cons*:\n",
    "\n",
    "\\- Old researchers are still advantaged with respect to younger ones (they had more time to publish).\n",
    "\n",
    "\\- Citations are still not considered."
   ]
  },
  {
   "cell_type": "markdown",
   "metadata": {},
   "source": [
    "***B2.3***"
   ]
  },
  {
   "cell_type": "markdown",
   "metadata": {},
   "source": [
    "#### Analyze the h5-index scoring ranking and compare with the one in paper-counting ranking to find any difference"
   ]
  },
  {
   "cell_type": "code",
   "execution_count": 49,
   "metadata": {},
   "outputs": [
    {
     "name": "stdout",
     "output_type": "stream",
     "text": [
      "Top 20 author rankings base on 2 ranking scheme: \n",
      "\n",
      "Ranking base on paper counts: \n",
      "                     author  papers number  naive rank\n",
      "0             Luc Van Gool            196           1\n",
      "1            Toshio Fukuda            194           2\n",
      "2          Thomas S. Huang            170           3\n",
      "3        Michael I. Jordan            152           4\n",
      "4             Takeo Kanade            148           5\n",
      "5           Trevor Darrell            144           6\n",
      "6              Xiaoou Tang            140           7\n",
      "7         Vijay Kumar 0001            137           8\n",
      "8            Shuicheng Yan            133           9\n",
      "9           Larry S. Davis            131          10\n",
      "10  Christopher D. Manning            129          11\n",
      "11          Marc Pollefeys            129          12\n",
      "12         Roland Siegwart            129          13\n",
      "13               Dan Klein            128          14\n",
      "14          Martial Hebert            127          15\n",
      "15         Wolfram Burgard            125          16\n",
      "16        Andrew Zisserman            124          17\n",
      "17      Bernhard Schölkopf            123          18\n",
      "18          Gerd Hirzinger            117          19\n",
      "19         Joel W. Burdick            116          20\n",
      "\n",
      "\n",
      "Ranking base on H5-index: \n",
      "                   author  H5 score  H5 rank\n",
      "0           Luc Van Gool     16374        1\n",
      "1        Thomas S. Huang     13003        2\n",
      "2            Xiaoou Tang     12546        3\n",
      "3         Trevor Darrell     11752        4\n",
      "4          Shuicheng Yan     11333        5\n",
      "5          Toshio Fukuda     11252        6\n",
      "6         Marc Pollefeys     10596        7\n",
      "7           Takeo Kanade     10430        8\n",
      "8         Martial Hebert     10202        9\n",
      "9         Larry S. Davis     10096       10\n",
      "10          Mubarak Shah      9705       11\n",
      "11      Andrew Zisserman      9495       12\n",
      "12            Pascal Fua      9405       13\n",
      "13        Jitendra Malik      9094       14\n",
      "14        Alan L. Yuille      9090       15\n",
      "15         Xiaogang Wang      8766       16\n",
      "16         Bernt Schiele      8495       17\n",
      "17  Ming-Hsuan Yang 0001      8286       18\n",
      "18      Katsushi Ikeuchi      8255       19\n",
      "19       Cordelia Schmid      8119       20\n"
     ]
    }
   ],
   "source": [
    "# check the top 20 authors who have more number of papers in both dataframes based on publication counts and h5-index\n",
    "top_20_naive = author_rank.head(20)\n",
    "top_20_H5 = author_rank_comp.head(20)\n",
    "print('Top 20 author rankings base on 2 ranking scheme: \\n')\n",
    "print('Ranking base on paper counts: \\n', top_20_naive)\n",
    "print('\\n\\nRanking base on H5-index: \\n', top_20_H5)"
   ]
  },
  {
   "cell_type": "markdown",
   "metadata": {},
   "source": [
    "#### Explanation:\n",
    "1. Apparently, we can see that these two ranking schemes result in different top 20 author lists. For example, Vijay Kumar is one of the top 20 authors in the publication-count ranking system, but he is not in the h5-index scoring ranking system. Therefore, we will check further if there are other authors that are in publication count ranking system but not in h5-index scoring system."
   ]
  },
  {
   "cell_type": "code",
   "execution_count": 50,
   "metadata": {},
   "outputs": [
    {
     "data": {
      "text/html": [
       "<div>\n",
       "<style scoped>\n",
       "    .dataframe tbody tr th:only-of-type {\n",
       "        vertical-align: middle;\n",
       "    }\n",
       "\n",
       "    .dataframe tbody tr th {\n",
       "        vertical-align: top;\n",
       "    }\n",
       "\n",
       "    .dataframe thead th {\n",
       "        text-align: right;\n",
       "    }\n",
       "</style>\n",
       "<table border=\"1\" class=\"dataframe\">\n",
       "  <thead>\n",
       "    <tr style=\"text-align: right;\">\n",
       "      <th></th>\n",
       "      <th>author</th>\n",
       "      <th>papers number</th>\n",
       "      <th>naive rank</th>\n",
       "      <th>H5 score</th>\n",
       "      <th>H5 rank</th>\n",
       "    </tr>\n",
       "  </thead>\n",
       "  <tbody>\n",
       "    <tr>\n",
       "      <th>0</th>\n",
       "      <td>Michael I. Jordan</td>\n",
       "      <td>152</td>\n",
       "      <td>4</td>\n",
       "      <td>8071</td>\n",
       "      <td>22</td>\n",
       "    </tr>\n",
       "    <tr>\n",
       "      <th>1</th>\n",
       "      <td>Vijay Kumar 0001</td>\n",
       "      <td>137</td>\n",
       "      <td>8</td>\n",
       "      <td>8000</td>\n",
       "      <td>23</td>\n",
       "    </tr>\n",
       "    <tr>\n",
       "      <th>2</th>\n",
       "      <td>Christopher D. Manning</td>\n",
       "      <td>129</td>\n",
       "      <td>11</td>\n",
       "      <td>5338</td>\n",
       "      <td>62</td>\n",
       "    </tr>\n",
       "    <tr>\n",
       "      <th>3</th>\n",
       "      <td>Roland Siegwart</td>\n",
       "      <td>129</td>\n",
       "      <td>13</td>\n",
       "      <td>7675</td>\n",
       "      <td>29</td>\n",
       "    </tr>\n",
       "    <tr>\n",
       "      <th>4</th>\n",
       "      <td>Dan Klein</td>\n",
       "      <td>128</td>\n",
       "      <td>14</td>\n",
       "      <td>5073</td>\n",
       "      <td>72</td>\n",
       "    </tr>\n",
       "    <tr>\n",
       "      <th>5</th>\n",
       "      <td>Wolfram Burgard</td>\n",
       "      <td>125</td>\n",
       "      <td>16</td>\n",
       "      <td>7161</td>\n",
       "      <td>35</td>\n",
       "    </tr>\n",
       "    <tr>\n",
       "      <th>6</th>\n",
       "      <td>Bernhard Schölkopf</td>\n",
       "      <td>123</td>\n",
       "      <td>18</td>\n",
       "      <td>6656</td>\n",
       "      <td>41</td>\n",
       "    </tr>\n",
       "    <tr>\n",
       "      <th>7</th>\n",
       "      <td>Gerd Hirzinger</td>\n",
       "      <td>117</td>\n",
       "      <td>19</td>\n",
       "      <td>6779</td>\n",
       "      <td>38</td>\n",
       "    </tr>\n",
       "    <tr>\n",
       "      <th>8</th>\n",
       "      <td>Joel W. Burdick</td>\n",
       "      <td>116</td>\n",
       "      <td>20</td>\n",
       "      <td>6699</td>\n",
       "      <td>39</td>\n",
       "    </tr>\n",
       "  </tbody>\n",
       "</table>\n",
       "</div>"
      ],
      "text/plain": [
       "                   author  papers number  naive rank  H5 score  H5 rank\n",
       "0       Michael I. Jordan            152           4      8071       22\n",
       "1        Vijay Kumar 0001            137           8      8000       23\n",
       "2  Christopher D. Manning            129          11      5338       62\n",
       "3         Roland Siegwart            129          13      7675       29\n",
       "4               Dan Klein            128          14      5073       72\n",
       "5         Wolfram Burgard            125          16      7161       35\n",
       "6      Bernhard Schölkopf            123          18      6656       41\n",
       "7          Gerd Hirzinger            117          19      6779       38\n",
       "8         Joel W. Burdick            116          20      6699       39"
      ]
     },
     "execution_count": 50,
     "metadata": {},
     "output_type": "execute_result"
    }
   ],
   "source": [
    "# Find the authors which appear in the naive top 20 but not in the H5 one and show their scores and ranks\n",
    "only_top_20_naive = top_20_naive[~(top_20_naive['author'].isin(top_20_H5['author']))]\n",
    "only_top_20_naive = only_top_20_naive.merge(author_rank_comp)\n",
    "only_top_20_naive"
   ]
  },
  {
   "cell_type": "markdown",
   "metadata": {},
   "source": [
    "***B2.4***"
   ]
  },
  {
   "cell_type": "markdown",
   "metadata": {},
   "source": [
    "#### Take the authors from the new text file and compute their ranking base on paper-counting and h5-index scoring scheme"
   ]
  },
  {
   "cell_type": "code",
   "execution_count": 51,
   "metadata": {},
   "outputs": [
    {
     "data": {
      "text/html": [
       "<div>\n",
       "<style scoped>\n",
       "    .dataframe tbody tr th:only-of-type {\n",
       "        vertical-align: middle;\n",
       "    }\n",
       "\n",
       "    .dataframe tbody tr th {\n",
       "        vertical-align: top;\n",
       "    }\n",
       "\n",
       "    .dataframe thead th {\n",
       "        text-align: right;\n",
       "    }\n",
       "</style>\n",
       "<table border=\"1\" class=\"dataframe\">\n",
       "  <thead>\n",
       "    <tr style=\"text-align: right;\">\n",
       "      <th></th>\n",
       "      <th>author</th>\n",
       "      <th>papers number</th>\n",
       "      <th>naive rank</th>\n",
       "      <th>H5 score</th>\n",
       "      <th>H5 rank</th>\n",
       "    </tr>\n",
       "  </thead>\n",
       "  <tbody>\n",
       "    <tr>\n",
       "      <th>0</th>\n",
       "      <td>Parag Havaldar</td>\n",
       "      <td>2</td>\n",
       "      <td>29577</td>\n",
       "      <td>170</td>\n",
       "      <td>16426</td>\n",
       "    </tr>\n",
       "    <tr>\n",
       "      <th>1</th>\n",
       "      <td>Steffen Abraham</td>\n",
       "      <td>1</td>\n",
       "      <td>40616</td>\n",
       "      <td>112</td>\n",
       "      <td>29149</td>\n",
       "    </tr>\n",
       "    <tr>\n",
       "      <th>2</th>\n",
       "      <td>Yukihiro Nakamura</td>\n",
       "      <td>2</td>\n",
       "      <td>25472</td>\n",
       "      <td>170</td>\n",
       "      <td>16552</td>\n",
       "    </tr>\n",
       "    <tr>\n",
       "      <th>3</th>\n",
       "      <td>Iljung S. Kwak</td>\n",
       "      <td>2</td>\n",
       "      <td>24101</td>\n",
       "      <td>170</td>\n",
       "      <td>17042</td>\n",
       "    </tr>\n",
       "    <tr>\n",
       "      <th>4</th>\n",
       "      <td>Charles Freundlich</td>\n",
       "      <td>2</td>\n",
       "      <td>32040</td>\n",
       "      <td>170</td>\n",
       "      <td>16474</td>\n",
       "    </tr>\n",
       "    <tr>\n",
       "      <th>5</th>\n",
       "      <td>Mengjie Zhang</td>\n",
       "      <td>12</td>\n",
       "      <td>3218</td>\n",
       "      <td>132</td>\n",
       "      <td>19376</td>\n",
       "    </tr>\n",
       "    <tr>\n",
       "      <th>6</th>\n",
       "      <td>Naokazu Yokoya</td>\n",
       "      <td>11</td>\n",
       "      <td>3628</td>\n",
       "      <td>158</td>\n",
       "      <td>17840</td>\n",
       "    </tr>\n",
       "    <tr>\n",
       "      <th>7</th>\n",
       "      <td>Sebastian Otte</td>\n",
       "      <td>7</td>\n",
       "      <td>6402</td>\n",
       "      <td>82</td>\n",
       "      <td>34547</td>\n",
       "    </tr>\n",
       "    <tr>\n",
       "      <th>8</th>\n",
       "      <td>Jianwu Dang</td>\n",
       "      <td>4</td>\n",
       "      <td>12596</td>\n",
       "      <td>16</td>\n",
       "      <td>73212</td>\n",
       "    </tr>\n",
       "    <tr>\n",
       "      <th>9</th>\n",
       "      <td>Hy Murveit</td>\n",
       "      <td>17</td>\n",
       "      <td>1781</td>\n",
       "      <td>170</td>\n",
       "      <td>16850</td>\n",
       "    </tr>\n",
       "  </tbody>\n",
       "</table>\n",
       "</div>"
      ],
      "text/plain": [
       "               author  papers number  naive rank  H5 score  H5 rank\n",
       "0      Parag Havaldar              2       29577       170    16426\n",
       "1     Steffen Abraham              1       40616       112    29149\n",
       "2   Yukihiro Nakamura              2       25472       170    16552\n",
       "3      Iljung S. Kwak              2       24101       170    17042\n",
       "4  Charles Freundlich              2       32040       170    16474\n",
       "5       Mengjie Zhang             12        3218       132    19376\n",
       "6      Naokazu Yokoya             11        3628       158    17840\n",
       "7      Sebastian Otte              7        6402        82    34547\n",
       "8         Jianwu Dang              4       12596        16    73212\n",
       "9          Hy Murveit             17        1781       170    16850"
      ]
     },
     "execution_count": 51,
     "metadata": {},
     "output_type": "execute_result"
    }
   ],
   "source": [
    "# Load data from text file to a dataframe\n",
    "authors_from_txt = pd.read_csv('./data/list_of_selected_authors.txt', header = None)\n",
    "authors_from_txt.columns = {'author'}\n",
    "\n",
    "# Create a dataframe storing information about specified authors' names, number of papers, and their h5-index scores\n",
    "temp = author_rank[author_rank['author'].isin(authors_from_txt['author'])]\n",
    "authors_from_txt = authors_from_txt.merge(temp, how = 'outer', on = 'author')\n",
    "temp = author_rank_comp[author_rank_comp['author'].isin(authors_from_txt['author'])]\n",
    "authors_from_txt = authors_from_txt.merge(temp, how = 'outer', on = 'author')\n",
    "authors_from_txt"
   ]
  },
  {
   "cell_type": "code",
   "execution_count": 52,
   "metadata": {},
   "outputs": [
    {
     "name": "stdout",
     "output_type": "stream",
     "text": [
      "Show the ranking according to paper counting based scheme \n",
      "\n"
     ]
    },
    {
     "data": {
      "text/html": [
       "<div>\n",
       "<style scoped>\n",
       "    .dataframe tbody tr th:only-of-type {\n",
       "        vertical-align: middle;\n",
       "    }\n",
       "\n",
       "    .dataframe tbody tr th {\n",
       "        vertical-align: top;\n",
       "    }\n",
       "\n",
       "    .dataframe thead th {\n",
       "        text-align: right;\n",
       "    }\n",
       "</style>\n",
       "<table border=\"1\" class=\"dataframe\">\n",
       "  <thead>\n",
       "    <tr style=\"text-align: right;\">\n",
       "      <th></th>\n",
       "      <th>author</th>\n",
       "      <th>papers number</th>\n",
       "      <th>naive rank</th>\n",
       "      <th>H5 score</th>\n",
       "      <th>H5 rank</th>\n",
       "    </tr>\n",
       "  </thead>\n",
       "  <tbody>\n",
       "    <tr>\n",
       "      <th>0</th>\n",
       "      <td>Hy Murveit</td>\n",
       "      <td>17</td>\n",
       "      <td>1781</td>\n",
       "      <td>170</td>\n",
       "      <td>16850</td>\n",
       "    </tr>\n",
       "    <tr>\n",
       "      <th>1</th>\n",
       "      <td>Mengjie Zhang</td>\n",
       "      <td>12</td>\n",
       "      <td>3218</td>\n",
       "      <td>132</td>\n",
       "      <td>19376</td>\n",
       "    </tr>\n",
       "    <tr>\n",
       "      <th>2</th>\n",
       "      <td>Naokazu Yokoya</td>\n",
       "      <td>11</td>\n",
       "      <td>3628</td>\n",
       "      <td>158</td>\n",
       "      <td>17840</td>\n",
       "    </tr>\n",
       "    <tr>\n",
       "      <th>3</th>\n",
       "      <td>Sebastian Otte</td>\n",
       "      <td>7</td>\n",
       "      <td>6402</td>\n",
       "      <td>82</td>\n",
       "      <td>34547</td>\n",
       "    </tr>\n",
       "    <tr>\n",
       "      <th>4</th>\n",
       "      <td>Jianwu Dang</td>\n",
       "      <td>4</td>\n",
       "      <td>12596</td>\n",
       "      <td>16</td>\n",
       "      <td>73212</td>\n",
       "    </tr>\n",
       "    <tr>\n",
       "      <th>5</th>\n",
       "      <td>Parag Havaldar</td>\n",
       "      <td>2</td>\n",
       "      <td>29577</td>\n",
       "      <td>170</td>\n",
       "      <td>16426</td>\n",
       "    </tr>\n",
       "    <tr>\n",
       "      <th>6</th>\n",
       "      <td>Yukihiro Nakamura</td>\n",
       "      <td>2</td>\n",
       "      <td>25472</td>\n",
       "      <td>170</td>\n",
       "      <td>16552</td>\n",
       "    </tr>\n",
       "    <tr>\n",
       "      <th>7</th>\n",
       "      <td>Iljung S. Kwak</td>\n",
       "      <td>2</td>\n",
       "      <td>24101</td>\n",
       "      <td>170</td>\n",
       "      <td>17042</td>\n",
       "    </tr>\n",
       "    <tr>\n",
       "      <th>8</th>\n",
       "      <td>Charles Freundlich</td>\n",
       "      <td>2</td>\n",
       "      <td>32040</td>\n",
       "      <td>170</td>\n",
       "      <td>16474</td>\n",
       "    </tr>\n",
       "    <tr>\n",
       "      <th>9</th>\n",
       "      <td>Steffen Abraham</td>\n",
       "      <td>1</td>\n",
       "      <td>40616</td>\n",
       "      <td>112</td>\n",
       "      <td>29149</td>\n",
       "    </tr>\n",
       "  </tbody>\n",
       "</table>\n",
       "</div>"
      ],
      "text/plain": [
       "               author  papers number  naive rank  H5 score  H5 rank\n",
       "0          Hy Murveit             17        1781       170    16850\n",
       "1       Mengjie Zhang             12        3218       132    19376\n",
       "2      Naokazu Yokoya             11        3628       158    17840\n",
       "3      Sebastian Otte              7        6402        82    34547\n",
       "4         Jianwu Dang              4       12596        16    73212\n",
       "5      Parag Havaldar              2       29577       170    16426\n",
       "6   Yukihiro Nakamura              2       25472       170    16552\n",
       "7      Iljung S. Kwak              2       24101       170    17042\n",
       "8  Charles Freundlich              2       32040       170    16474\n",
       "9     Steffen Abraham              1       40616       112    29149"
      ]
     },
     "execution_count": 52,
     "metadata": {},
     "output_type": "execute_result"
    }
   ],
   "source": [
    "# Rank the authors according to the naive method\n",
    "print('Show the ranking according to paper counting based scheme \\n')\n",
    "authors_from_txt.sort_values(by = 'papers number', ascending = False).reset_index().drop('index', axis = 1)"
   ]
  },
  {
   "cell_type": "code",
   "execution_count": 53,
   "metadata": {},
   "outputs": [
    {
     "name": "stdout",
     "output_type": "stream",
     "text": [
      "Show the ranking according to h5-index based scheme \n",
      "\n"
     ]
    },
    {
     "data": {
      "text/html": [
       "<div>\n",
       "<style scoped>\n",
       "    .dataframe tbody tr th:only-of-type {\n",
       "        vertical-align: middle;\n",
       "    }\n",
       "\n",
       "    .dataframe tbody tr th {\n",
       "        vertical-align: top;\n",
       "    }\n",
       "\n",
       "    .dataframe thead th {\n",
       "        text-align: right;\n",
       "    }\n",
       "</style>\n",
       "<table border=\"1\" class=\"dataframe\">\n",
       "  <thead>\n",
       "    <tr style=\"text-align: right;\">\n",
       "      <th></th>\n",
       "      <th>author</th>\n",
       "      <th>papers number</th>\n",
       "      <th>naive rank</th>\n",
       "      <th>H5 score</th>\n",
       "      <th>H5 rank</th>\n",
       "    </tr>\n",
       "  </thead>\n",
       "  <tbody>\n",
       "    <tr>\n",
       "      <th>0</th>\n",
       "      <td>Parag Havaldar</td>\n",
       "      <td>2</td>\n",
       "      <td>29577</td>\n",
       "      <td>170</td>\n",
       "      <td>16426</td>\n",
       "    </tr>\n",
       "    <tr>\n",
       "      <th>1</th>\n",
       "      <td>Yukihiro Nakamura</td>\n",
       "      <td>2</td>\n",
       "      <td>25472</td>\n",
       "      <td>170</td>\n",
       "      <td>16552</td>\n",
       "    </tr>\n",
       "    <tr>\n",
       "      <th>2</th>\n",
       "      <td>Iljung S. Kwak</td>\n",
       "      <td>2</td>\n",
       "      <td>24101</td>\n",
       "      <td>170</td>\n",
       "      <td>17042</td>\n",
       "    </tr>\n",
       "    <tr>\n",
       "      <th>3</th>\n",
       "      <td>Charles Freundlich</td>\n",
       "      <td>2</td>\n",
       "      <td>32040</td>\n",
       "      <td>170</td>\n",
       "      <td>16474</td>\n",
       "    </tr>\n",
       "    <tr>\n",
       "      <th>4</th>\n",
       "      <td>Hy Murveit</td>\n",
       "      <td>17</td>\n",
       "      <td>1781</td>\n",
       "      <td>170</td>\n",
       "      <td>16850</td>\n",
       "    </tr>\n",
       "    <tr>\n",
       "      <th>5</th>\n",
       "      <td>Naokazu Yokoya</td>\n",
       "      <td>11</td>\n",
       "      <td>3628</td>\n",
       "      <td>158</td>\n",
       "      <td>17840</td>\n",
       "    </tr>\n",
       "    <tr>\n",
       "      <th>6</th>\n",
       "      <td>Mengjie Zhang</td>\n",
       "      <td>12</td>\n",
       "      <td>3218</td>\n",
       "      <td>132</td>\n",
       "      <td>19376</td>\n",
       "    </tr>\n",
       "    <tr>\n",
       "      <th>7</th>\n",
       "      <td>Steffen Abraham</td>\n",
       "      <td>1</td>\n",
       "      <td>40616</td>\n",
       "      <td>112</td>\n",
       "      <td>29149</td>\n",
       "    </tr>\n",
       "    <tr>\n",
       "      <th>8</th>\n",
       "      <td>Sebastian Otte</td>\n",
       "      <td>7</td>\n",
       "      <td>6402</td>\n",
       "      <td>82</td>\n",
       "      <td>34547</td>\n",
       "    </tr>\n",
       "    <tr>\n",
       "      <th>9</th>\n",
       "      <td>Jianwu Dang</td>\n",
       "      <td>4</td>\n",
       "      <td>12596</td>\n",
       "      <td>16</td>\n",
       "      <td>73212</td>\n",
       "    </tr>\n",
       "  </tbody>\n",
       "</table>\n",
       "</div>"
      ],
      "text/plain": [
       "               author  papers number  naive rank  H5 score  H5 rank\n",
       "0      Parag Havaldar              2       29577       170    16426\n",
       "1   Yukihiro Nakamura              2       25472       170    16552\n",
       "2      Iljung S. Kwak              2       24101       170    17042\n",
       "3  Charles Freundlich              2       32040       170    16474\n",
       "4          Hy Murveit             17        1781       170    16850\n",
       "5      Naokazu Yokoya             11        3628       158    17840\n",
       "6       Mengjie Zhang             12        3218       132    19376\n",
       "7     Steffen Abraham              1       40616       112    29149\n",
       "8      Sebastian Otte              7        6402        82    34547\n",
       "9         Jianwu Dang              4       12596        16    73212"
      ]
     },
     "execution_count": 53,
     "metadata": {},
     "output_type": "execute_result"
    }
   ],
   "source": [
    "# Rank the authors base on h5-index scores \n",
    "print('Show the ranking according to h5-index based scheme \\n')\n",
    "authors_from_txt.sort_values(by = 'H5 score', ascending = False).reset_index().drop('index', axis = 1)"
   ]
  },
  {
   "cell_type": "code",
   "execution_count": 85,
   "metadata": {},
   "outputs": [
    {
     "data": {
      "image/png": "[encoded data removed]",
      "text/plain": [
       "<Figure size 432x288 with 2 Axes>"
      ]
     },
     "metadata": {},
     "output_type": "display_data"
    },
    {
     "data": {
      "image/png": "[encoded data removed]",
      "text/plain": [
       "<Figure size 432x288 with 1 Axes>"
      ]
     },
     "metadata": {
      "needs_background": "light"
     },
     "output_type": "display_data"
    }
   ],
   "source": [
    "# Graphical comparison of the selected authors' ranks\n",
    "\n",
    "# Scores comparison\n",
    "fig, ax1 = plt.subplots()\n",
    "color = 'tab:blue'\n",
    "ax1.set_ylabel('papers count', color=color)\n",
    "ax1.scatter(authors_from_txt['author'], authors_from_txt['papers number'], color=color)\n",
    "ax1.tick_params(axis='y', labelcolor=color)\n",
    "# plt.ylim([1, 18])\n",
    "plt.xticks(rotation=90)\n",
    "ax2 = ax1.twinx()\n",
    "color = 'tab:orange'\n",
    "ax2.set_ylabel('H5 score', color=color)\n",
    "plt.scatter(authors_from_txt['author'], authors_from_txt['H5 score'], color=color)\n",
    "ax2.tick_params(axis='y', labelcolor=color)\n",
    "plt.title(\"Selected authors' scores comparison\")\n",
    "plt.show()\n",
    "\n",
    "# Ranks comparison\n",
    "plt.scatter(authors_from_txt['author'], authors_from_txt['naive rank'])\n",
    "plt.scatter(authors_from_txt['author'], authors_from_txt['H5 rank'])\n",
    "plt.xticks(rotation=90)\n",
    "plt.gca().legend(labels=['naive', 'H5'])\n",
    "plt.gca().set_ylabel('rank')\n",
    "plt.gca().invert_yaxis()\n",
    "plt.title(\"Selected authors' ranks comparison\")\n",
    "plt.show()"
   ]
  },
  {
   "cell_type": "markdown",
   "metadata": {},
   "source": [
    "#### Explanation:\n",
    "In the previous plots we can see how the two rankings does not always agree. \n",
    "\n",
    "In the first one we can see the actual scores based on the two criteria (different y scales are used since number of publications and total H5 score are not comparable). Higher dots represent higher scores.\n",
    "\n",
    "In the second plot (with reversed y axis representing the position in the rank: the highest position is 1) we can compare the positions in the respective rankings. "
   ]
  },
  {
   "cell_type": "markdown",
   "metadata": {},
   "source": [
    "***B2.5***"
   ]
  },
  {
   "cell_type": "markdown",
   "metadata": {},
   "source": [
    "#### Analyze the conferences where the top ranked authors publish and visualize their paper distribution in conferences"
   ]
  },
  {
   "cell_type": "code",
   "execution_count": 95,
   "metadata": {},
   "outputs": [
    {
     "data": {
      "text/html": [
       "<div>\n",
       "<style scoped>\n",
       "    .dataframe tbody tr th:only-of-type {\n",
       "        vertical-align: middle;\n",
       "    }\n",
       "\n",
       "    .dataframe tbody tr th {\n",
       "        vertical-align: top;\n",
       "    }\n",
       "\n",
       "    .dataframe thead th {\n",
       "        text-align: right;\n",
       "    }\n",
       "</style>\n",
       "<table border=\"1\" class=\"dataframe\">\n",
       "  <thead>\n",
       "    <tr style=\"text-align: right;\">\n",
       "      <th>conference</th>\n",
       "      <th>accv</th>\n",
       "      <th>cvpr</th>\n",
       "      <th>emnlp</th>\n",
       "      <th>fgr</th>\n",
       "      <th>icann</th>\n",
       "      <th>iccv</th>\n",
       "      <th>icml</th>\n",
       "      <th>icra</th>\n",
       "      <th>ijcai</th>\n",
       "      <th>naacl</th>\n",
       "      <th>nips</th>\n",
       "    </tr>\n",
       "    <tr>\n",
       "      <th>author</th>\n",
       "      <th></th>\n",
       "      <th></th>\n",
       "      <th></th>\n",
       "      <th></th>\n",
       "      <th></th>\n",
       "      <th></th>\n",
       "      <th></th>\n",
       "      <th></th>\n",
       "      <th></th>\n",
       "      <th></th>\n",
       "      <th></th>\n",
       "    </tr>\n",
       "  </thead>\n",
       "  <tbody>\n",
       "    <tr>\n",
       "      <td>Alan L. Yuille</td>\n",
       "      <td>0</td>\n",
       "      <td>53</td>\n",
       "      <td>1</td>\n",
       "      <td>0</td>\n",
       "      <td>0</td>\n",
       "      <td>26</td>\n",
       "      <td>2</td>\n",
       "      <td>1</td>\n",
       "      <td>3</td>\n",
       "      <td>0</td>\n",
       "      <td>26</td>\n",
       "    </tr>\n",
       "    <tr>\n",
       "      <td>Andrew Zisserman</td>\n",
       "      <td>11</td>\n",
       "      <td>59</td>\n",
       "      <td>0</td>\n",
       "      <td>5</td>\n",
       "      <td>0</td>\n",
       "      <td>38</td>\n",
       "      <td>0</td>\n",
       "      <td>1</td>\n",
       "      <td>0</td>\n",
       "      <td>0</td>\n",
       "      <td>10</td>\n",
       "    </tr>\n",
       "    <tr>\n",
       "      <td>Bernt Schiele</td>\n",
       "      <td>3</td>\n",
       "      <td>64</td>\n",
       "      <td>0</td>\n",
       "      <td>0</td>\n",
       "      <td>0</td>\n",
       "      <td>15</td>\n",
       "      <td>1</td>\n",
       "      <td>2</td>\n",
       "      <td>0</td>\n",
       "      <td>0</td>\n",
       "      <td>5</td>\n",
       "    </tr>\n",
       "    <tr>\n",
       "      <td>Cordelia Schmid</td>\n",
       "      <td>0</td>\n",
       "      <td>53</td>\n",
       "      <td>0</td>\n",
       "      <td>0</td>\n",
       "      <td>0</td>\n",
       "      <td>35</td>\n",
       "      <td>0</td>\n",
       "      <td>0</td>\n",
       "      <td>0</td>\n",
       "      <td>0</td>\n",
       "      <td>3</td>\n",
       "    </tr>\n",
       "    <tr>\n",
       "      <td>Jitendra Malik</td>\n",
       "      <td>0</td>\n",
       "      <td>56</td>\n",
       "      <td>0</td>\n",
       "      <td>0</td>\n",
       "      <td>0</td>\n",
       "      <td>34</td>\n",
       "      <td>2</td>\n",
       "      <td>3</td>\n",
       "      <td>3</td>\n",
       "      <td>0</td>\n",
       "      <td>9</td>\n",
       "    </tr>\n",
       "    <tr>\n",
       "      <td>Katsushi Ikeuchi</td>\n",
       "      <td>12</td>\n",
       "      <td>43</td>\n",
       "      <td>0</td>\n",
       "      <td>1</td>\n",
       "      <td>0</td>\n",
       "      <td>22</td>\n",
       "      <td>0</td>\n",
       "      <td>34</td>\n",
       "      <td>2</td>\n",
       "      <td>0</td>\n",
       "      <td>0</td>\n",
       "    </tr>\n",
       "    <tr>\n",
       "      <td>Larry S. Davis</td>\n",
       "      <td>10</td>\n",
       "      <td>65</td>\n",
       "      <td>0</td>\n",
       "      <td>8</td>\n",
       "      <td>0</td>\n",
       "      <td>33</td>\n",
       "      <td>1</td>\n",
       "      <td>8</td>\n",
       "      <td>2</td>\n",
       "      <td>0</td>\n",
       "      <td>4</td>\n",
       "    </tr>\n",
       "    <tr>\n",
       "      <td>Luc Van Gool</td>\n",
       "      <td>15</td>\n",
       "      <td>113</td>\n",
       "      <td>0</td>\n",
       "      <td>5</td>\n",
       "      <td>1</td>\n",
       "      <td>46</td>\n",
       "      <td>1</td>\n",
       "      <td>10</td>\n",
       "      <td>0</td>\n",
       "      <td>0</td>\n",
       "      <td>5</td>\n",
       "    </tr>\n",
       "    <tr>\n",
       "      <td>Marc Pollefeys</td>\n",
       "      <td>9</td>\n",
       "      <td>66</td>\n",
       "      <td>0</td>\n",
       "      <td>0</td>\n",
       "      <td>0</td>\n",
       "      <td>32</td>\n",
       "      <td>2</td>\n",
       "      <td>18</td>\n",
       "      <td>0</td>\n",
       "      <td>0</td>\n",
       "      <td>2</td>\n",
       "    </tr>\n",
       "    <tr>\n",
       "      <td>Martial Hebert</td>\n",
       "      <td>1</td>\n",
       "      <td>56</td>\n",
       "      <td>0</td>\n",
       "      <td>1</td>\n",
       "      <td>0</td>\n",
       "      <td>26</td>\n",
       "      <td>1</td>\n",
       "      <td>35</td>\n",
       "      <td>2</td>\n",
       "      <td>0</td>\n",
       "      <td>5</td>\n",
       "    </tr>\n",
       "    <tr>\n",
       "      <td>Ming-Hsuan Yang 0001</td>\n",
       "      <td>6</td>\n",
       "      <td>57</td>\n",
       "      <td>0</td>\n",
       "      <td>5</td>\n",
       "      <td>0</td>\n",
       "      <td>22</td>\n",
       "      <td>0</td>\n",
       "      <td>0</td>\n",
       "      <td>0</td>\n",
       "      <td>0</td>\n",
       "      <td>11</td>\n",
       "    </tr>\n",
       "    <tr>\n",
       "      <td>Mubarak Shah</td>\n",
       "      <td>0</td>\n",
       "      <td>68</td>\n",
       "      <td>0</td>\n",
       "      <td>1</td>\n",
       "      <td>0</td>\n",
       "      <td>33</td>\n",
       "      <td>0</td>\n",
       "      <td>3</td>\n",
       "      <td>0</td>\n",
       "      <td>0</td>\n",
       "      <td>0</td>\n",
       "    </tr>\n",
       "    <tr>\n",
       "      <td>Pascal Fua</td>\n",
       "      <td>0</td>\n",
       "      <td>66</td>\n",
       "      <td>0</td>\n",
       "      <td>3</td>\n",
       "      <td>0</td>\n",
       "      <td>27</td>\n",
       "      <td>2</td>\n",
       "      <td>1</td>\n",
       "      <td>2</td>\n",
       "      <td>0</td>\n",
       "      <td>4</td>\n",
       "    </tr>\n",
       "    <tr>\n",
       "      <td>Shuicheng Yan</td>\n",
       "      <td>2</td>\n",
       "      <td>76</td>\n",
       "      <td>0</td>\n",
       "      <td>3</td>\n",
       "      <td>0</td>\n",
       "      <td>31</td>\n",
       "      <td>5</td>\n",
       "      <td>0</td>\n",
       "      <td>6</td>\n",
       "      <td>0</td>\n",
       "      <td>10</td>\n",
       "    </tr>\n",
       "    <tr>\n",
       "      <td>Takeo Kanade</td>\n",
       "      <td>5</td>\n",
       "      <td>58</td>\n",
       "      <td>0</td>\n",
       "      <td>14</td>\n",
       "      <td>0</td>\n",
       "      <td>26</td>\n",
       "      <td>2</td>\n",
       "      <td>31</td>\n",
       "      <td>10</td>\n",
       "      <td>0</td>\n",
       "      <td>2</td>\n",
       "    </tr>\n",
       "    <tr>\n",
       "      <td>Thomas S. Huang</td>\n",
       "      <td>6</td>\n",
       "      <td>93</td>\n",
       "      <td>0</td>\n",
       "      <td>24</td>\n",
       "      <td>0</td>\n",
       "      <td>33</td>\n",
       "      <td>1</td>\n",
       "      <td>1</td>\n",
       "      <td>6</td>\n",
       "      <td>1</td>\n",
       "      <td>5</td>\n",
       "    </tr>\n",
       "    <tr>\n",
       "      <td>Toshio Fukuda</td>\n",
       "      <td>0</td>\n",
       "      <td>0</td>\n",
       "      <td>0</td>\n",
       "      <td>0</td>\n",
       "      <td>0</td>\n",
       "      <td>0</td>\n",
       "      <td>0</td>\n",
       "      <td>194</td>\n",
       "      <td>0</td>\n",
       "      <td>0</td>\n",
       "      <td>0</td>\n",
       "    </tr>\n",
       "    <tr>\n",
       "      <td>Trevor Darrell</td>\n",
       "      <td>0</td>\n",
       "      <td>72</td>\n",
       "      <td>2</td>\n",
       "      <td>4</td>\n",
       "      <td>0</td>\n",
       "      <td>27</td>\n",
       "      <td>8</td>\n",
       "      <td>8</td>\n",
       "      <td>1</td>\n",
       "      <td>1</td>\n",
       "      <td>21</td>\n",
       "    </tr>\n",
       "    <tr>\n",
       "      <td>Xiaogang Wang</td>\n",
       "      <td>1</td>\n",
       "      <td>60</td>\n",
       "      <td>0</td>\n",
       "      <td>1</td>\n",
       "      <td>0</td>\n",
       "      <td>30</td>\n",
       "      <td>1</td>\n",
       "      <td>0</td>\n",
       "      <td>1</td>\n",
       "      <td>0</td>\n",
       "      <td>4</td>\n",
       "    </tr>\n",
       "    <tr>\n",
       "      <td>Xiaoou Tang</td>\n",
       "      <td>1</td>\n",
       "      <td>87</td>\n",
       "      <td>0</td>\n",
       "      <td>2</td>\n",
       "      <td>0</td>\n",
       "      <td>39</td>\n",
       "      <td>3</td>\n",
       "      <td>0</td>\n",
       "      <td>3</td>\n",
       "      <td>0</td>\n",
       "      <td>5</td>\n",
       "    </tr>\n",
       "  </tbody>\n",
       "</table>\n",
       "</div>"
      ],
      "text/plain": [
       "conference            accv  cvpr  emnlp  fgr  icann  iccv  icml  icra  ijcai  \\\n",
       "author                                                                         \n",
       "Alan L. Yuille           0    53      1    0      0    26     2     1      3   \n",
       "Andrew Zisserman        11    59      0    5      0    38     0     1      0   \n",
       "Bernt Schiele            3    64      0    0      0    15     1     2      0   \n",
       "Cordelia Schmid          0    53      0    0      0    35     0     0      0   \n",
       "Jitendra Malik           0    56      0    0      0    34     2     3      3   \n",
       "Katsushi Ikeuchi        12    43      0    1      0    22     0    34      2   \n",
       "Larry S. Davis          10    65      0    8      0    33     1     8      2   \n",
       "Luc Van Gool            15   113      0    5      1    46     1    10      0   \n",
       "Marc Pollefeys           9    66      0    0      0    32     2    18      0   \n",
       "Martial Hebert           1    56      0    1      0    26     1    35      2   \n",
       "Ming-Hsuan Yang 0001     6    57      0    5      0    22     0     0      0   \n",
       "Mubarak Shah             0    68      0    1      0    33     0     3      0   \n",
       "Pascal Fua               0    66      0    3      0    27     2     1      2   \n",
       "Shuicheng Yan            2    76      0    3      0    31     5     0      6   \n",
       "Takeo Kanade             5    58      0   14      0    26     2    31     10   \n",
       "Thomas S. Huang          6    93      0   24      0    33     1     1      6   \n",
       "Toshio Fukuda            0     0      0    0      0     0     0   194      0   \n",
       "Trevor Darrell           0    72      2    4      0    27     8     8      1   \n",
       "Xiaogang Wang            1    60      0    1      0    30     1     0      1   \n",
       "Xiaoou Tang              1    87      0    2      0    39     3     0      3   \n",
       "\n",
       "conference            naacl  nips  \n",
       "author                             \n",
       "Alan L. Yuille            0    26  \n",
       "Andrew Zisserman          0    10  \n",
       "Bernt Schiele             0     5  \n",
       "Cordelia Schmid           0     3  \n",
       "Jitendra Malik            0     9  \n",
       "Katsushi Ikeuchi          0     0  \n",
       "Larry S. Davis            0     4  \n",
       "Luc Van Gool              0     5  \n",
       "Marc Pollefeys            0     2  \n",
       "Martial Hebert            0     5  \n",
       "Ming-Hsuan Yang 0001      0    11  \n",
       "Mubarak Shah              0     0  \n",
       "Pascal Fua                0     4  \n",
       "Shuicheng Yan             0    10  \n",
       "Takeo Kanade              0     2  \n",
       "Thomas S. Huang           1     5  \n",
       "Toshio Fukuda             0     0  \n",
       "Trevor Darrell            1    21  \n",
       "Xiaogang Wang             0     4  \n",
       "Xiaoou Tang               0     5  "
      ]
     },
     "execution_count": 95,
     "metadata": {},
     "output_type": "execute_result"
    }
   ],
   "source": [
    "# build a pivot table to show the top 20 authors' papers in each conference\n",
    "num_conf_author = authors_in_conf.groupby(['author', 'conference'])['paper title'].count().reset_index().rename(columns = {'paper title': 'number'})\n",
    "num_conf_top_author = num_conf_author[num_conf_author['author'].isin((author_rank_comp[:20])['author'].tolist())]\n",
    "num_conf_top_author_pivot = num_conf_top_author.pivot(index = 'author', columns = 'conference', values = 'number')\n",
    "num_conf_top_author_pivot.fillna(0, inplace = True)\n",
    "num_conf_top_author_pivot = num_conf_top_author_pivot.astype(int)\n",
    "num_conf_top_author_pivot"
   ]
  },
  {
   "cell_type": "code",
   "execution_count": 96,
   "metadata": {},
   "outputs": [
    {
     "data": {
      "image/png": "[encoded data removed]",
      "text/plain": [
       "<Figure size 720x1440 with 1 Axes>"
      ]
     },
     "metadata": {
      "needs_background": "light"
     },
     "output_type": "display_data"
    }
   ],
   "source": [
    "# make a plot to see top 20 authors' publications in various conferences\n",
    "num_conf_top_author_pivot.plot(kind = 'barh', width = 0.7, figsize = (10, 20), align='center')\n",
    "plt.tick_params(axis = 'y', which = 'major', labelsize = 10)\n",
    "plt.xlabel('number', fontsize = 10)\n",
    "plt.title('Number of conferences top 20 authors attend', fontsize = 16)\n",
    "plt.show()"
   ]
  },
  {
   "cell_type": "code",
   "execution_count": 66,
   "metadata": {},
   "outputs": [
    {
     "data": {
      "image/png": "[encoded data removed]",
      "text/plain": [
       "<Figure size 720x432 with 1 Axes>"
      ]
     },
     "metadata": {
      "needs_background": "light"
     },
     "output_type": "display_data"
    }
   ],
   "source": [
    "# Identify the most important conference from the point of view of H5-rank\n",
    "papers_top_20_H5 = authors_in_conf[authors_in_conf['author'].isin(top_20_H5['author'])]\n",
    "papers_top_20_H5.head()\n",
    "conferences_top_20_H5 = papers_top_20_H5 \\\n",
    "                       .groupby('conference') \\\n",
    "                       .count() \\\n",
    "                       .rename(columns={'author':'papers number'})['papers number'] \\\n",
    "                       .to_frame()\n",
    "conferences_top_20_H5 = conferences_top_20_H5.merge(aminer, left_index=True, right_on='conference')\n",
    "\n",
    "# Scatterplot of papers number per conference from authors in H5-rank top 20\n",
    "x = conferences_top_20_H5['papers number'].values\n",
    "y = conferences_top_20_H5['h5-index'].values\n",
    "code = conferences_top_20_H5['conference'].values\n",
    "plt.figure(figsize=(10, 6))\n",
    "plt.scatter(x, y)\n",
    "for i in range(code.shape[0]):\n",
    "    plt.annotate(code[i], (x[i], y[i]), size=12)\n",
    "plt.title('Papers number per conference from authors in H5-rank top 20')\n",
    "plt.xlabel('Papers number')\n",
    "plt.ylabel('Conference H5 index')\n",
    "plt.show()"
   ]
  },
  {
   "cell_type": "markdown",
   "metadata": {},
   "source": [
    "#### Explanation:\n",
    "1. From the figure, we can see that these top 20 authors publish their papers more in the conferences which have higher h5-index scores. Specifically, almost every author in the list has more papers published in CVPR, which worths of 112 points in h5 index. As a result, they could obtain more points in h5-index score, improving their ranking. "
   ]
  },
  {
   "cell_type": "markdown",
   "metadata": {},
   "source": [
    "### B3. And Justice For All\n",
    "\n",
    "An ideal ranking scheme should not give undue advantage to authors who have been conducting research for a longer period of time and therefore have naturally published more papers when compared to a junior researcher. Does the ranking scheme designed by you in ``Step 2`` take this factor into account? If not, introduce variations in your ranking scheme to mitigate this effect. Do you observe anything odd with this new ranking? Clearly explain your observations.\n",
    "\n",
    "_Hint: What you did in part A4 may be useful here._"
   ]
  },
  {
   "cell_type": "markdown",
   "metadata": {},
   "source": [
    "### Method 1: Average H5-score"
   ]
  },
  {
   "cell_type": "code",
   "execution_count": 76,
   "metadata": {},
   "outputs": [
    {
     "data": {
      "text/html": [
       "<div>\n",
       "<style scoped>\n",
       "    .dataframe tbody tr th:only-of-type {\n",
       "        vertical-align: middle;\n",
       "    }\n",
       "\n",
       "    .dataframe tbody tr th {\n",
       "        vertical-align: top;\n",
       "    }\n",
       "\n",
       "    .dataframe thead th {\n",
       "        text-align: right;\n",
       "    }\n",
       "</style>\n",
       "<table border=\"1\" class=\"dataframe\">\n",
       "  <thead>\n",
       "    <tr style=\"text-align: right;\">\n",
       "      <th></th>\n",
       "      <th>author</th>\n",
       "      <th>diff</th>\n",
       "    </tr>\n",
       "  </thead>\n",
       "  <tbody>\n",
       "    <tr>\n",
       "      <th>0</th>\n",
       "      <td>A Min Tjoa</td>\n",
       "      <td>2</td>\n",
       "    </tr>\n",
       "    <tr>\n",
       "      <th>1</th>\n",
       "      <td>A-Yeon Park</td>\n",
       "      <td>1</td>\n",
       "    </tr>\n",
       "    <tr>\n",
       "      <th>2</th>\n",
       "      <td>A. A. Clark</td>\n",
       "      <td>1</td>\n",
       "    </tr>\n",
       "    <tr>\n",
       "      <th>3</th>\n",
       "      <td>A. A. Jimoh</td>\n",
       "      <td>1</td>\n",
       "    </tr>\n",
       "    <tr>\n",
       "      <th>4</th>\n",
       "      <td>A. Afghan</td>\n",
       "      <td>1</td>\n",
       "    </tr>\n",
       "  </tbody>\n",
       "</table>\n",
       "</div>"
      ],
      "text/plain": [
       "        author  diff\n",
       "0   A Min Tjoa     2\n",
       "1  A-Yeon Park     1\n",
       "2  A. A. Clark     1\n",
       "3  A. A. Jimoh     1\n",
       "4    A. Afghan     1"
      ]
     },
     "execution_count": 76,
     "metadata": {},
     "output_type": "execute_result"
    }
   ],
   "source": [
    "# create a temporary dataframe containing information about authors and year difference (max_year - min_year) \n",
    "te = num_paper_per_author_year[['author', 'diff']]\n",
    "te.columns = te.columns.get_level_values(0)\n",
    "te.head()"
   ]
  },
  {
   "cell_type": "code",
   "execution_count": 79,
   "metadata": {},
   "outputs": [
    {
     "data": {
      "text/html": [
       "<div>\n",
       "<style scoped>\n",
       "    .dataframe tbody tr th:only-of-type {\n",
       "        vertical-align: middle;\n",
       "    }\n",
       "\n",
       "    .dataframe tbody tr th {\n",
       "        vertical-align: top;\n",
       "    }\n",
       "\n",
       "    .dataframe thead th {\n",
       "        text-align: right;\n",
       "    }\n",
       "</style>\n",
       "<table border=\"1\" class=\"dataframe\">\n",
       "  <thead>\n",
       "    <tr style=\"text-align: right;\">\n",
       "      <th></th>\n",
       "      <th>author</th>\n",
       "      <th>diff</th>\n",
       "      <th>H5 score</th>\n",
       "      <th>H5 rank</th>\n",
       "      <th>h5-index avg</th>\n",
       "    </tr>\n",
       "  </thead>\n",
       "  <tbody>\n",
       "    <tr>\n",
       "      <th>0</th>\n",
       "      <td>A Min Tjoa</td>\n",
       "      <td>2</td>\n",
       "      <td>12</td>\n",
       "      <td>73806</td>\n",
       "      <td>6.0</td>\n",
       "    </tr>\n",
       "    <tr>\n",
       "      <th>1</th>\n",
       "      <td>A-Yeon Park</td>\n",
       "      <td>1</td>\n",
       "      <td>1</td>\n",
       "      <td>91143</td>\n",
       "      <td>1.0</td>\n",
       "    </tr>\n",
       "    <tr>\n",
       "      <th>2</th>\n",
       "      <td>A. A. Clark</td>\n",
       "      <td>1</td>\n",
       "      <td>112</td>\n",
       "      <td>28811</td>\n",
       "      <td>112.0</td>\n",
       "    </tr>\n",
       "    <tr>\n",
       "      <th>3</th>\n",
       "      <td>A. A. Jimoh</td>\n",
       "      <td>1</td>\n",
       "      <td>8</td>\n",
       "      <td>79441</td>\n",
       "      <td>8.0</td>\n",
       "    </tr>\n",
       "    <tr>\n",
       "      <th>4</th>\n",
       "      <td>A. Afghan</td>\n",
       "      <td>1</td>\n",
       "      <td>51</td>\n",
       "      <td>58013</td>\n",
       "      <td>51.0</td>\n",
       "    </tr>\n",
       "  </tbody>\n",
       "</table>\n",
       "</div>"
      ],
      "text/plain": [
       "        author  diff  H5 score  H5 rank  h5-index avg\n",
       "0   A Min Tjoa     2        12    73806           6.0\n",
       "1  A-Yeon Park     1         1    91143           1.0\n",
       "2  A. A. Clark     1       112    28811         112.0\n",
       "3  A. A. Jimoh     1         8    79441           8.0\n",
       "4    A. Afghan     1        51    58013          51.0"
      ]
     },
     "execution_count": 79,
     "metadata": {},
     "output_type": "execute_result"
    }
   ],
   "source": [
    "# create a new column indicating the average h5-index score for each author\n",
    "num_paper_per_author_year_h5 = te.merge(author_rank_comp, on = 'author')\n",
    "num_paper_per_author_year_h5['h5-index avg'] = round(num_paper_per_author_year_h5['H5 score'] / num_paper_per_author_year_h5['diff'], 3)\n",
    "num_paper_per_author_year_h5.head()"
   ]
  },
  {
   "cell_type": "code",
   "execution_count": 81,
   "metadata": {},
   "outputs": [
    {
     "data": {
      "text/html": [
       "<div>\n",
       "<style scoped>\n",
       "    .dataframe tbody tr th:only-of-type {\n",
       "        vertical-align: middle;\n",
       "    }\n",
       "\n",
       "    .dataframe tbody tr th {\n",
       "        vertical-align: top;\n",
       "    }\n",
       "\n",
       "    .dataframe thead th {\n",
       "        text-align: right;\n",
       "    }\n",
       "</style>\n",
       "<table border=\"1\" class=\"dataframe\">\n",
       "  <thead>\n",
       "    <tr style=\"text-align: right;\">\n",
       "      <th></th>\n",
       "      <th>author</th>\n",
       "      <th>diff</th>\n",
       "      <th>H5 score</th>\n",
       "      <th>H5 rank</th>\n",
       "      <th>h5-index avg</th>\n",
       "    </tr>\n",
       "  </thead>\n",
       "  <tbody>\n",
       "    <tr>\n",
       "      <th>84608</th>\n",
       "      <td>Xiaoou Tang</td>\n",
       "      <td>15</td>\n",
       "      <td>12546</td>\n",
       "      <td>3</td>\n",
       "      <td>836.400</td>\n",
       "    </tr>\n",
       "    <tr>\n",
       "      <th>45869</th>\n",
       "      <td>Li Fei-Fei 0001</td>\n",
       "      <td>3</td>\n",
       "      <td>2198</td>\n",
       "      <td>528</td>\n",
       "      <td>732.667</td>\n",
       "    </tr>\n",
       "    <tr>\n",
       "      <th>72156</th>\n",
       "      <td>Shuicheng Yan</td>\n",
       "      <td>17</td>\n",
       "      <td>11333</td>\n",
       "      <td>5</td>\n",
       "      <td>666.647</td>\n",
       "    </tr>\n",
       "    <tr>\n",
       "      <th>47170</th>\n",
       "      <td>Luc Van Gool</td>\n",
       "      <td>29</td>\n",
       "      <td>16374</td>\n",
       "      <td>1</td>\n",
       "      <td>564.621</td>\n",
       "    </tr>\n",
       "    <tr>\n",
       "      <th>84385</th>\n",
       "      <td>Xiaogang Wang</td>\n",
       "      <td>16</td>\n",
       "      <td>8766</td>\n",
       "      <td>16</td>\n",
       "      <td>547.875</td>\n",
       "    </tr>\n",
       "    <tr>\n",
       "      <th>35820</th>\n",
       "      <td>Jiashi Feng</td>\n",
       "      <td>8</td>\n",
       "      <td>4289</td>\n",
       "      <td>118</td>\n",
       "      <td>536.125</td>\n",
       "    </tr>\n",
       "    <tr>\n",
       "      <th>84310</th>\n",
       "      <td>Xiaodan Liang</td>\n",
       "      <td>4</td>\n",
       "      <td>2048</td>\n",
       "      <td>596</td>\n",
       "      <td>512.000</td>\n",
       "    </tr>\n",
       "    <tr>\n",
       "      <th>73942</th>\n",
       "      <td>Stefanos Zafeiriou</td>\n",
       "      <td>10</td>\n",
       "      <td>4859</td>\n",
       "      <td>86</td>\n",
       "      <td>485.900</td>\n",
       "    </tr>\n",
       "    <tr>\n",
       "      <th>64768</th>\n",
       "      <td>Raquel Urtasun</td>\n",
       "      <td>17</td>\n",
       "      <td>7677</td>\n",
       "      <td>28</td>\n",
       "      <td>451.588</td>\n",
       "    </tr>\n",
       "    <tr>\n",
       "      <th>49001</th>\n",
       "      <td>Marc Pollefeys</td>\n",
       "      <td>24</td>\n",
       "      <td>10596</td>\n",
       "      <td>7</td>\n",
       "      <td>441.500</td>\n",
       "    </tr>\n",
       "  </tbody>\n",
       "</table>\n",
       "</div>"
      ],
      "text/plain": [
       "                   author  diff  H5 score  H5 rank  h5-index avg\n",
       "84608         Xiaoou Tang    15     12546        3       836.400\n",
       "45869     Li Fei-Fei 0001     3      2198      528       732.667\n",
       "72156       Shuicheng Yan    17     11333        5       666.647\n",
       "47170        Luc Van Gool    29     16374        1       564.621\n",
       "84385       Xiaogang Wang    16      8766       16       547.875\n",
       "35820         Jiashi Feng     8      4289      118       536.125\n",
       "84310       Xiaodan Liang     4      2048      596       512.000\n",
       "73942  Stefanos Zafeiriou    10      4859       86       485.900\n",
       "64768      Raquel Urtasun    17      7677       28       451.588\n",
       "49001      Marc Pollefeys    24     10596        7       441.500"
      ]
     },
     "execution_count": 81,
     "metadata": {},
     "output_type": "execute_result"
    }
   ],
   "source": [
    "# top 20 authors according to average h5-index score\n",
    "# (add new metric: (total h5-index score + number of paper * average of h5-index score for each conference involved) / year difference)\n",
    "num_paper_per_author_year_h5.sort_values(by = 'h5-index avg', ascending = False)[:10]"
   ]
  },
  {
   "cell_type": "markdown",
   "metadata": {},
   "source": [
    "#### Explanation:\n",
    "1. In the new scheme, we not only take total h5-index score into account, but mainly consider  h5-index average. Therefore, from the above dataframe, we can see that some excellent authors could obtain high h5-index scores just by several years. For instance, Li Fei-Fei spent only 3 years to get 2860 points in h5-index score. As a result, we conclude that using h5-index average can be more objective to evaluate authors."
   ]
  },
  {
   "cell_type": "markdown",
   "metadata": {},
   "source": [
    "### Method 2: Justice score\n",
    "While designing a ranking system with the data about authors that we have, we want to equalize all of the factors  - number of papers, H5-score and an activity period. We have designed a scheme combining all of these features: \n",
    "\n",
    "$$\\textrm{justice_score}_{\\textrm{author}} = \\frac{{\\textrm{publications}}_{\\textrm{author}} * \\textrm{H5-score}_{\\textrm{avg}} + \\textrm{H5-score}_{\\textrm{author}}}{\\textrm{activity}_{\\textrm{author}}}$$\n",
    "\n",
    "We multiply number of author's publications with the average H5-score per paper between the authors (this not only reflex the average H5-score of the conference but considers the number of authors participating on each conferece), add sum author's H5-scores for all papers and divide this with the number of publication years. \n"
   ]
  },
  {
   "cell_type": "code",
   "execution_count": 82,
   "metadata": {},
   "outputs": [],
   "source": [
    "average_h5_score = authors_in_conf_rank[\"h5-index\"].sum() / len(authors_in_conf_rank)\n",
    "publications_author = authors_in_conf_rank.groupby('author').size().astype('int32')\n",
    "score_author = authors_in_conf_rank.groupby('author').sum()[\"h5-index\"].astype('int32')\n",
    "activity_author_end = authors_in_conf_rank.groupby('author')[\"publication year\"].max().astype('int32')\n",
    "activity_author_start = authors_in_conf_rank.groupby('author')[\"publication year\"].min().astype('int32')\n",
    "\n",
    "justice_author_rank = (publications_author*average_h5_score + score_author)/(activity_author_end - activity_author_start + 1)"
   ]
  },
  {
   "cell_type": "code",
   "execution_count": 83,
   "metadata": {},
   "outputs": [
    {
     "data": {
      "image/png": "[encoded data removed]",
      "text/plain": [
       "<Figure size 432x288 with 1 Axes>"
      ]
     },
     "metadata": {
      "needs_background": "light"
     },
     "output_type": "display_data"
    }
   ],
   "source": [
    "justice_author_rank.sort_values(ascending=False).plot.hist(bins=50, xlim=(0,1500))\n",
    "plt.title('Histgram of the Justice score')\n",
    "plt.xlabel('Justice score')\n",
    "plt.show()"
   ]
  },
  {
   "cell_type": "code",
   "execution_count": 84,
   "metadata": {},
   "outputs": [
    {
     "data": {
      "text/plain": [
       "author\n",
       "Xiaoou Tang           1311.681861\n",
       "Li Fei-Fei 0001       1123.076767\n",
       "Shuicheng Yan         1065.045090\n",
       "Luc Van Gool           908.790313\n",
       "Jiashi Feng            873.490250\n",
       "Xiaogang Wang          859.778722\n",
       "Xiaodan Liang          817.538339\n",
       "Sergey Levine          793.867984\n",
       "Stefanos Zafeiriou     781.253728\n",
       "Raquel Urtasun         736.158257\n",
       "dtype: float64"
      ]
     },
     "execution_count": 84,
     "metadata": {},
     "output_type": "execute_result"
    }
   ],
   "source": [
    "justice_author_rank.sort_values(ascending=False).head(10)"
   ]
  },
  {
   "cell_type": "code",
   "execution_count": 75,
   "metadata": {},
   "outputs": [
    {
     "name": "stdout",
     "output_type": "stream",
     "text": [
      "Xiaoou Tang number of papers: 140\n",
      "Xiaoou Tang H5-score: 12546\n",
      "Xiaoou Tang activity start: 2003\n",
      "Xiaoou Tang activity end: 2017\n"
     ]
    }
   ],
   "source": [
    "tang_papers = len(authors_in_conf_rank[authors_in_conf_rank[\"author\"] == \"Xiaoou Tang\"])\n",
    "tang_h5 = authors_in_conf_rank[authors_in_conf_rank[\"author\"] == \"Xiaoou Tang\"].sum()[\"h5-index\"]\n",
    "tang_max = authors_in_conf_rank[authors_in_conf_rank[\"author\"] == \"Xiaoou Tang\"]['publication year'].max()\n",
    "tang_min = authors_in_conf_rank[authors_in_conf_rank[\"author\"] == \"Xiaoou Tang\"]['publication year'].min()\n",
    "\n",
    "print(f\"Xiaoou Tang number of papers: {tang_papers}\")\n",
    "print(f\"Xiaoou Tang H5-score: {tang_h5}\")\n",
    "print(f\"Xiaoou Tang activity start: {tang_min}\")\n",
    "print(f\"Xiaoou Tang activity end: {tang_max}\")"
   ]
  },
  {
   "cell_type": "markdown",
   "metadata": {},
   "source": [
    "#### Explanation:\n",
    "1. The Justice score we have designed could still be improved. Some of the authors which have been active only in short period of time and have large number of papers at the highly ranked conferences would appear still in high ranking. Therefore, we think that active authors are ranked more fairly if we combine H5-score and activity into the evaluation metric. What's more, we could improve the ranking if we have more additional data about the authors. For exapmle, the number of citations or the number of published books. "
   ]
  },
  {
   "cell_type": "markdown",
   "metadata": {},
   "source": [
    "## Task C. Trending topics\n",
    "\n",
    "Historically, the field of AI has witnessed research in two broad flavors: “symbolic” (logic, planning, control, etc.) vs. “connectionist” (neural networks, deep learning, Bayesian methods, etc.). Let’s see if we can see how the popularity of these two approaches to AI is reflected in the DBLP data.\n",
    "\n",
    "To this end, construct two dataframes: ``symbolic`` and ``connectionist``. ``symbolic`` is your paper-centric dataframe from part A1 filtered down to those papers whose titles contain at least one of the following words (not differentiating between upper and lower case letters): “logic”, “planning”, “control”; ``connectionist`` is a dataframe constructed in a similar manner, but with the words “deep”, “learning”, “feature”, “bayesian”. Plot the number of papers per year for ``symbolic`` and ``connectionist`` separately (i.e., 2 plots).\n",
    "1. Describe the trends you observe. Based on these plots alone, what might one conclude about the popularity of the two approaches to AI?\n",
    "2. Moving beyond these plots, what do you, as a careful data scientist, conclude about the popularity of symbolic vs. connectionist AI? Corroborate your reasoning with further plots.\n",
    "\n",
    "_Note: You could use the text handling utilities below to clean the text in the paper titles._"
   ]
  },
  {
   "cell_type": "code",
   "execution_count": 91,
   "metadata": {},
   "outputs": [],
   "source": [
    "# Text handling utilities\n",
    "from string import punctuation\n",
    "stopwords_list = open('data/stopwords.txt', 'r').readlines()\n",
    "stopwords_list = [x.strip() for x in stopwords_list]\n",
    "def stopword_remover(text):\n",
    "    text_list = text.split()\n",
    "    text_list = [x for x in text_list if x not in stopwords_list]\n",
    "    return ' '.join(text_list)\n",
    "def lowercase_all(text):\n",
    "    return text.lower()\n",
    "def remove_punct(text):\n",
    "    return ''.join([ch for ch in text if ch not in punctuation])"
   ]
  },
  {
   "cell_type": "code",
   "execution_count": 92,
   "metadata": {},
   "outputs": [
    {
     "data": {
      "text/html": [
       "<div>\n",
       "<style scoped>\n",
       "    .dataframe tbody tr th:only-of-type {\n",
       "        vertical-align: middle;\n",
       "    }\n",
       "\n",
       "    .dataframe tbody tr th {\n",
       "        vertical-align: top;\n",
       "    }\n",
       "\n",
       "    .dataframe thead th {\n",
       "        text-align: right;\n",
       "    }\n",
       "</style>\n",
       "<table border=\"1\" class=\"dataframe\">\n",
       "  <thead>\n",
       "    <tr style=\"text-align: right;\">\n",
       "      <th></th>\n",
       "      <th>paper title</th>\n",
       "      <th>publication year</th>\n",
       "      <th>words</th>\n",
       "    </tr>\n",
       "    <tr>\n",
       "      <th>paper id</th>\n",
       "      <th></th>\n",
       "      <th></th>\n",
       "      <th></th>\n",
       "    </tr>\n",
       "  </thead>\n",
       "  <tbody>\n",
       "    <tr>\n",
       "      <th>conf/iccv/KunoOO90</th>\n",
       "      <td>Object recognition using a feature search stra...</td>\n",
       "      <td>1990</td>\n",
       "      <td>object recognition using feature search strate...</td>\n",
       "    </tr>\n",
       "    <tr>\n",
       "      <th>conf/iccv/VedulaBRCK99</th>\n",
       "      <td>Three-Dimensional Scene Flow.</td>\n",
       "      <td>1999</td>\n",
       "      <td>threedimensional scene flow</td>\n",
       "    </tr>\n",
       "    <tr>\n",
       "      <th>conf/iccv/MeminP99</th>\n",
       "      <td>Fluid Motion Recovery by Coupling Dense and Pa...</td>\n",
       "      <td>1999</td>\n",
       "      <td>fluid motion recovery coupling dense parametri...</td>\n",
       "    </tr>\n",
       "    <tr>\n",
       "      <th>conf/iccv/DickinsonPR90</th>\n",
       "      <td>Qualitative 3-D shape reconstruction using dis...</td>\n",
       "      <td>1990</td>\n",
       "      <td>qualitative 3d shape reconstruction using dist...</td>\n",
       "    </tr>\n",
       "    <tr>\n",
       "      <th>conf/iccv/SinghYL17</th>\n",
       "      <td>GPLAC: Generalizing Vision-Based Robotic Skill...</td>\n",
       "      <td>2017</td>\n",
       "      <td>gplac generalizing visionbased robotic skills ...</td>\n",
       "    </tr>\n",
       "  </tbody>\n",
       "</table>\n",
       "</div>"
      ],
      "text/plain": [
       "                                                               paper title  \\\n",
       "paper id                                                                     \n",
       "conf/iccv/KunoOO90       Object recognition using a feature search stra...   \n",
       "conf/iccv/VedulaBRCK99                       Three-Dimensional Scene Flow.   \n",
       "conf/iccv/MeminP99       Fluid Motion Recovery by Coupling Dense and Pa...   \n",
       "conf/iccv/DickinsonPR90  Qualitative 3-D shape reconstruction using dis...   \n",
       "conf/iccv/SinghYL17      GPLAC: Generalizing Vision-Based Robotic Skill...   \n",
       "\n",
       "                        publication year  \\\n",
       "paper id                                   \n",
       "conf/iccv/KunoOO90                  1990   \n",
       "conf/iccv/VedulaBRCK99              1999   \n",
       "conf/iccv/MeminP99                  1999   \n",
       "conf/iccv/DickinsonPR90             1990   \n",
       "conf/iccv/SinghYL17                 2017   \n",
       "\n",
       "                                                                     words  \n",
       "paper id                                                                    \n",
       "conf/iccv/KunoOO90       object recognition using feature search strate...  \n",
       "conf/iccv/VedulaBRCK99                         threedimensional scene flow  \n",
       "conf/iccv/MeminP99       fluid motion recovery coupling dense parametri...  \n",
       "conf/iccv/DickinsonPR90  qualitative 3d shape reconstruction using dist...  \n",
       "conf/iccv/SinghYL17      gplac generalizing visionbased robotic skills ...  "
      ]
     },
     "execution_count": 92,
     "metadata": {},
     "output_type": "execute_result"
    }
   ],
   "source": [
    "# remove stopwords and punctuation, lower every character in paper titles as well\n",
    "paper_title_year = papers_in_conf[['paper title', 'publication year']]\n",
    "word_list = ((paper_title_year['paper title'].apply(lowercase_all)).apply(remove_punct)).apply(stopword_remover)\n",
    "word_list.name = 'words'\n",
    "paper_title_year = pd.concat([paper_title_year, word_list], axis = 1)\n",
    "paper_title_year.head()"
   ]
  },
  {
   "cell_type": "code",
   "execution_count": 93,
   "metadata": {},
   "outputs": [
    {
     "data": {
      "text/html": [
       "<div>\n",
       "<style scoped>\n",
       "    .dataframe tbody tr th:only-of-type {\n",
       "        vertical-align: middle;\n",
       "    }\n",
       "\n",
       "    .dataframe tbody tr th {\n",
       "        vertical-align: top;\n",
       "    }\n",
       "\n",
       "    .dataframe thead th {\n",
       "        text-align: right;\n",
       "    }\n",
       "</style>\n",
       "<table border=\"1\" class=\"dataframe\">\n",
       "  <thead>\n",
       "    <tr style=\"text-align: right;\">\n",
       "      <th></th>\n",
       "      <th>words</th>\n",
       "      <th>publication year</th>\n",
       "      <th>symbolic count</th>\n",
       "    </tr>\n",
       "    <tr>\n",
       "      <th>paper id</th>\n",
       "      <th></th>\n",
       "      <th></th>\n",
       "      <th></th>\n",
       "    </tr>\n",
       "  </thead>\n",
       "  <tbody>\n",
       "    <tr>\n",
       "      <th>conf/iccv/KunoOO90</th>\n",
       "      <td>object recognition using feature search strate...</td>\n",
       "      <td>1990</td>\n",
       "      <td>0</td>\n",
       "    </tr>\n",
       "    <tr>\n",
       "      <th>conf/iccv/VedulaBRCK99</th>\n",
       "      <td>threedimensional scene flow</td>\n",
       "      <td>1999</td>\n",
       "      <td>0</td>\n",
       "    </tr>\n",
       "    <tr>\n",
       "      <th>conf/iccv/MeminP99</th>\n",
       "      <td>fluid motion recovery coupling dense parametri...</td>\n",
       "      <td>1999</td>\n",
       "      <td>0</td>\n",
       "    </tr>\n",
       "    <tr>\n",
       "      <th>conf/iccv/DickinsonPR90</th>\n",
       "      <td>qualitative 3d shape reconstruction using dist...</td>\n",
       "      <td>1990</td>\n",
       "      <td>0</td>\n",
       "    </tr>\n",
       "    <tr>\n",
       "      <th>conf/iccv/SinghYL17</th>\n",
       "      <td>gplac generalizing visionbased robotic skills ...</td>\n",
       "      <td>2017</td>\n",
       "      <td>0</td>\n",
       "    </tr>\n",
       "  </tbody>\n",
       "</table>\n",
       "</div>"
      ],
      "text/plain": [
       "                                                                     words  \\\n",
       "paper id                                                                     \n",
       "conf/iccv/KunoOO90       object recognition using feature search strate...   \n",
       "conf/iccv/VedulaBRCK99                         threedimensional scene flow   \n",
       "conf/iccv/MeminP99       fluid motion recovery coupling dense parametri...   \n",
       "conf/iccv/DickinsonPR90  qualitative 3d shape reconstruction using dist...   \n",
       "conf/iccv/SinghYL17      gplac generalizing visionbased robotic skills ...   \n",
       "\n",
       "                        publication year  symbolic count  \n",
       "paper id                                                  \n",
       "conf/iccv/KunoOO90                  1990               0  \n",
       "conf/iccv/VedulaBRCK99              1999               0  \n",
       "conf/iccv/MeminP99                  1999               0  \n",
       "conf/iccv/DickinsonPR90             1990               0  \n",
       "conf/iccv/SinghYL17                 2017               0  "
      ]
     },
     "execution_count": 93,
     "metadata": {},
     "output_type": "execute_result"
    }
   ],
   "source": [
    "# calculate the symbolic count\n",
    "words_symbolic = ['logic', 'planning', 'control']\n",
    "pattern = '|'.join(words_symbolic)\n",
    "symbolic = paper_title_year[['words', 'publication year']]\n",
    "symbolic['symbolic count'] = (paper_title_year['words'].str.contains(pattern)).astype(int)\n",
    "symbolic.head()"
   ]
  },
  {
   "cell_type": "code",
   "execution_count": 94,
   "metadata": {},
   "outputs": [
    {
     "data": {
      "text/html": [
       "<div>\n",
       "<style scoped>\n",
       "    .dataframe tbody tr th:only-of-type {\n",
       "        vertical-align: middle;\n",
       "    }\n",
       "\n",
       "    .dataframe tbody tr th {\n",
       "        vertical-align: top;\n",
       "    }\n",
       "\n",
       "    .dataframe thead th {\n",
       "        text-align: right;\n",
       "    }\n",
       "</style>\n",
       "<table border=\"1\" class=\"dataframe\">\n",
       "  <thead>\n",
       "    <tr style=\"text-align: right;\">\n",
       "      <th></th>\n",
       "      <th>publication year</th>\n",
       "      <th>symbolic count</th>\n",
       "    </tr>\n",
       "  </thead>\n",
       "  <tbody>\n",
       "    <tr>\n",
       "      <th>0</th>\n",
       "      <td>1969</td>\n",
       "      <td>5</td>\n",
       "    </tr>\n",
       "    <tr>\n",
       "      <th>1</th>\n",
       "      <td>1971</td>\n",
       "      <td>8</td>\n",
       "    </tr>\n",
       "    <tr>\n",
       "      <th>2</th>\n",
       "      <td>1973</td>\n",
       "      <td>12</td>\n",
       "    </tr>\n",
       "    <tr>\n",
       "      <th>3</th>\n",
       "      <td>1975</td>\n",
       "      <td>14</td>\n",
       "    </tr>\n",
       "    <tr>\n",
       "      <th>4</th>\n",
       "      <td>1977</td>\n",
       "      <td>21</td>\n",
       "    </tr>\n",
       "  </tbody>\n",
       "</table>\n",
       "</div>"
      ],
      "text/plain": [
       "  publication year  symbolic count\n",
       "0             1969               5\n",
       "1             1971               8\n",
       "2             1973              12\n",
       "3             1975              14\n",
       "4             1977              21"
      ]
     },
     "execution_count": 94,
     "metadata": {},
     "output_type": "execute_result"
    }
   ],
   "source": [
    "# group them for each year\n",
    "symbolic_group_year = symbolic.groupby('publication year')['symbolic count'].sum().reset_index()\n",
    "symbolic_group_year.head()"
   ]
  },
  {
   "cell_type": "code",
   "execution_count": 95,
   "metadata": {},
   "outputs": [
    {
     "data": {
      "image/png": "[encoded data removed]",
      "text/plain": [
       "<Figure size 432x288 with 1 Axes>"
      ]
     },
     "metadata": {
      "needs_background": "light"
     },
     "output_type": "display_data"
    }
   ],
   "source": [
    "# make a plot\n",
    "symbolic_group_year.plot(x = 'publication year', y = 'symbolic count')\n",
    "plt.ylabel('number of symbolic papers')\n",
    "plt.title('Number of symbolic papers every year')\n",
    "plt.show()"
   ]
  },
  {
   "cell_type": "code",
   "execution_count": 96,
   "metadata": {},
   "outputs": [
    {
     "data": {
      "text/html": [
       "<div>\n",
       "<style scoped>\n",
       "    .dataframe tbody tr th:only-of-type {\n",
       "        vertical-align: middle;\n",
       "    }\n",
       "\n",
       "    .dataframe tbody tr th {\n",
       "        vertical-align: top;\n",
       "    }\n",
       "\n",
       "    .dataframe thead th {\n",
       "        text-align: right;\n",
       "    }\n",
       "</style>\n",
       "<table border=\"1\" class=\"dataframe\">\n",
       "  <thead>\n",
       "    <tr style=\"text-align: right;\">\n",
       "      <th></th>\n",
       "      <th>words</th>\n",
       "      <th>publication year</th>\n",
       "      <th>connectionist count</th>\n",
       "    </tr>\n",
       "    <tr>\n",
       "      <th>paper id</th>\n",
       "      <th></th>\n",
       "      <th></th>\n",
       "      <th></th>\n",
       "    </tr>\n",
       "  </thead>\n",
       "  <tbody>\n",
       "    <tr>\n",
       "      <th>conf/iccv/KunoOO90</th>\n",
       "      <td>object recognition using feature search strate...</td>\n",
       "      <td>1990</td>\n",
       "      <td>1</td>\n",
       "    </tr>\n",
       "    <tr>\n",
       "      <th>conf/iccv/VedulaBRCK99</th>\n",
       "      <td>threedimensional scene flow</td>\n",
       "      <td>1999</td>\n",
       "      <td>0</td>\n",
       "    </tr>\n",
       "    <tr>\n",
       "      <th>conf/iccv/MeminP99</th>\n",
       "      <td>fluid motion recovery coupling dense parametri...</td>\n",
       "      <td>1999</td>\n",
       "      <td>0</td>\n",
       "    </tr>\n",
       "    <tr>\n",
       "      <th>conf/iccv/DickinsonPR90</th>\n",
       "      <td>qualitative 3d shape reconstruction using dist...</td>\n",
       "      <td>1990</td>\n",
       "      <td>0</td>\n",
       "    </tr>\n",
       "    <tr>\n",
       "      <th>conf/iccv/SinghYL17</th>\n",
       "      <td>gplac generalizing visionbased robotic skills ...</td>\n",
       "      <td>2017</td>\n",
       "      <td>0</td>\n",
       "    </tr>\n",
       "  </tbody>\n",
       "</table>\n",
       "</div>"
      ],
      "text/plain": [
       "                                                                     words  \\\n",
       "paper id                                                                     \n",
       "conf/iccv/KunoOO90       object recognition using feature search strate...   \n",
       "conf/iccv/VedulaBRCK99                         threedimensional scene flow   \n",
       "conf/iccv/MeminP99       fluid motion recovery coupling dense parametri...   \n",
       "conf/iccv/DickinsonPR90  qualitative 3d shape reconstruction using dist...   \n",
       "conf/iccv/SinghYL17      gplac generalizing visionbased robotic skills ...   \n",
       "\n",
       "                        publication year  connectionist count  \n",
       "paper id                                                       \n",
       "conf/iccv/KunoOO90                  1990                    1  \n",
       "conf/iccv/VedulaBRCK99              1999                    0  \n",
       "conf/iccv/MeminP99                  1999                    0  \n",
       "conf/iccv/DickinsonPR90             1990                    0  \n",
       "conf/iccv/SinghYL17                 2017                    0  "
      ]
     },
     "execution_count": 96,
     "metadata": {},
     "output_type": "execute_result"
    }
   ],
   "source": [
    "# calculate connectionist count\n",
    "words_connectionist = ['deep', 'learning', 'feature', 'bayesian']\n",
    "pattern = '|'.join(words_connectionist)\n",
    "connectionist = paper_title_year[['words', 'publication year']]\n",
    "connectionist['connectionist count'] = (paper_title_year['words'].str.contains(pattern)).astype(int)\n",
    "connectionist.head()"
   ]
  },
  {
   "cell_type": "code",
   "execution_count": 97,
   "metadata": {},
   "outputs": [
    {
     "data": {
      "text/html": [
       "<div>\n",
       "<style scoped>\n",
       "    .dataframe tbody tr th:only-of-type {\n",
       "        vertical-align: middle;\n",
       "    }\n",
       "\n",
       "    .dataframe tbody tr th {\n",
       "        vertical-align: top;\n",
       "    }\n",
       "\n",
       "    .dataframe thead th {\n",
       "        text-align: right;\n",
       "    }\n",
       "</style>\n",
       "<table border=\"1\" class=\"dataframe\">\n",
       "  <thead>\n",
       "    <tr style=\"text-align: right;\">\n",
       "      <th></th>\n",
       "      <th>publication year</th>\n",
       "      <th>connectionist count</th>\n",
       "    </tr>\n",
       "  </thead>\n",
       "  <tbody>\n",
       "    <tr>\n",
       "      <th>0</th>\n",
       "      <td>1969</td>\n",
       "      <td>4</td>\n",
       "    </tr>\n",
       "    <tr>\n",
       "      <th>1</th>\n",
       "      <td>1971</td>\n",
       "      <td>0</td>\n",
       "    </tr>\n",
       "    <tr>\n",
       "      <th>2</th>\n",
       "      <td>1973</td>\n",
       "      <td>1</td>\n",
       "    </tr>\n",
       "    <tr>\n",
       "      <th>3</th>\n",
       "      <td>1975</td>\n",
       "      <td>7</td>\n",
       "    </tr>\n",
       "    <tr>\n",
       "      <th>4</th>\n",
       "      <td>1977</td>\n",
       "      <td>9</td>\n",
       "    </tr>\n",
       "  </tbody>\n",
       "</table>\n",
       "</div>"
      ],
      "text/plain": [
       "  publication year  connectionist count\n",
       "0             1969                    4\n",
       "1             1971                    0\n",
       "2             1973                    1\n",
       "3             1975                    7\n",
       "4             1977                    9"
      ]
     },
     "execution_count": 97,
     "metadata": {},
     "output_type": "execute_result"
    }
   ],
   "source": [
    "# group them for each year\n",
    "connectionist_group_year = connectionist.groupby('publication year')['connectionist count'].sum().reset_index()\n",
    "connectionist_group_year.head()"
   ]
  },
  {
   "cell_type": "code",
   "execution_count": 98,
   "metadata": {},
   "outputs": [
    {
     "data": {
      "image/png": "[encoded data removed]",
      "text/plain": [
       "<Figure size 432x288 with 1 Axes>"
      ]
     },
     "metadata": {
      "needs_background": "light"
     },
     "output_type": "display_data"
    }
   ],
   "source": [
    "# make a plot\n",
    "connectionist_group_year.plot(x = 'publication year', y = 'connectionist count')\n",
    "plt.ylabel('number of connectionist papers')\n",
    "plt.title('Number of connectionist papers every year')\n",
    "plt.show()"
   ]
  },
  {
   "cell_type": "markdown",
   "metadata": {},
   "source": [
    "#### Further analysis"
   ]
  },
  {
   "cell_type": "markdown",
   "metadata": {},
   "source": [
    "##### Calculate and make annual plots of h5-score and average h5-index of papers categorized in each approach."
   ]
  },
  {
   "cell_type": "code",
   "execution_count": 99,
   "metadata": {},
   "outputs": [
    {
     "data": {
      "text/html": [
       "<div>\n",
       "<style scoped>\n",
       "    .dataframe tbody tr th:only-of-type {\n",
       "        vertical-align: middle;\n",
       "    }\n",
       "\n",
       "    .dataframe tbody tr th {\n",
       "        vertical-align: top;\n",
       "    }\n",
       "\n",
       "    .dataframe thead th {\n",
       "        text-align: right;\n",
       "    }\n",
       "</style>\n",
       "<table border=\"1\" class=\"dataframe\">\n",
       "  <thead>\n",
       "    <tr style=\"text-align: right;\">\n",
       "      <th></th>\n",
       "      <th>paper title</th>\n",
       "      <th>publication year</th>\n",
       "      <th>conference</th>\n",
       "      <th>h5-index</th>\n",
       "      <th>words2</th>\n",
       "    </tr>\n",
       "  </thead>\n",
       "  <tbody>\n",
       "    <tr>\n",
       "      <th>0</th>\n",
       "      <td>Object recognition using a feature search stra...</td>\n",
       "      <td>1990</td>\n",
       "      <td>iccv</td>\n",
       "      <td>58</td>\n",
       "      <td>object recognition using feature search strate...</td>\n",
       "    </tr>\n",
       "    <tr>\n",
       "      <th>1</th>\n",
       "      <td>Three-Dimensional Scene Flow.</td>\n",
       "      <td>1999</td>\n",
       "      <td>iccv</td>\n",
       "      <td>58</td>\n",
       "      <td>threedimensional scene flow</td>\n",
       "    </tr>\n",
       "    <tr>\n",
       "      <th>2</th>\n",
       "      <td>Fluid Motion Recovery by Coupling Dense and Pa...</td>\n",
       "      <td>1999</td>\n",
       "      <td>iccv</td>\n",
       "      <td>58</td>\n",
       "      <td>fluid motion recovery coupling dense parametri...</td>\n",
       "    </tr>\n",
       "    <tr>\n",
       "      <th>3</th>\n",
       "      <td>Qualitative 3-D shape reconstruction using dis...</td>\n",
       "      <td>1990</td>\n",
       "      <td>iccv</td>\n",
       "      <td>58</td>\n",
       "      <td>qualitative 3d shape reconstruction using dist...</td>\n",
       "    </tr>\n",
       "    <tr>\n",
       "      <th>4</th>\n",
       "      <td>GPLAC: Generalizing Vision-Based Robotic Skill...</td>\n",
       "      <td>2017</td>\n",
       "      <td>iccv</td>\n",
       "      <td>58</td>\n",
       "      <td>gplac generalizing visionbased robotic skills ...</td>\n",
       "    </tr>\n",
       "  </tbody>\n",
       "</table>\n",
       "</div>"
      ],
      "text/plain": [
       "                                         paper title publication year  \\\n",
       "0  Object recognition using a feature search stra...             1990   \n",
       "1                      Three-Dimensional Scene Flow.             1999   \n",
       "2  Fluid Motion Recovery by Coupling Dense and Pa...             1999   \n",
       "3  Qualitative 3-D shape reconstruction using dis...             1990   \n",
       "4  GPLAC: Generalizing Vision-Based Robotic Skill...             2017   \n",
       "\n",
       "  conference  h5-index                                             words2  \n",
       "0       iccv        58  object recognition using feature search strate...  \n",
       "1       iccv        58                        threedimensional scene flow  \n",
       "2       iccv        58  fluid motion recovery coupling dense parametri...  \n",
       "3       iccv        58  qualitative 3d shape reconstruction using dist...  \n",
       "4       iccv        58  gplac generalizing visionbased robotic skills ...  "
      ]
     },
     "execution_count": 99,
     "metadata": {},
     "output_type": "execute_result"
    }
   ],
   "source": [
    "# create conference centered dataframe with h5-index\n",
    "papers_in_conf_h5 = pd.merge(papers_in_conf, aminer)\n",
    "paper_title_year2 = papers_in_conf_h5[['paper title', 'publication year', 'conference','h5-index']]\n",
    "word_list2 = ((paper_title_year2['paper title'].apply(lowercase_all)).apply(remove_punct)).apply(stopword_remover)\n",
    "word_list2.name = 'words2'\n",
    "paper_title_year2 = pd.concat([paper_title_year2, word_list2], axis = 1)\n",
    "paper_title_year2.head()"
   ]
  },
  {
   "cell_type": "code",
   "execution_count": 100,
   "metadata": {},
   "outputs": [
    {
     "data": {
      "text/html": [
       "<div>\n",
       "<style scoped>\n",
       "    .dataframe tbody tr th:only-of-type {\n",
       "        vertical-align: middle;\n",
       "    }\n",
       "\n",
       "    .dataframe tbody tr th {\n",
       "        vertical-align: top;\n",
       "    }\n",
       "\n",
       "    .dataframe thead th {\n",
       "        text-align: right;\n",
       "    }\n",
       "</style>\n",
       "<table border=\"1\" class=\"dataframe\">\n",
       "  <thead>\n",
       "    <tr style=\"text-align: right;\">\n",
       "      <th></th>\n",
       "      <th>publication year</th>\n",
       "      <th>h5-index</th>\n",
       "      <th>symbolic count</th>\n",
       "      <th>h5_symbolic_count</th>\n",
       "    </tr>\n",
       "  </thead>\n",
       "  <tbody>\n",
       "    <tr>\n",
       "      <th>0</th>\n",
       "      <td>1969</td>\n",
       "      <td>2240</td>\n",
       "      <td>5</td>\n",
       "      <td>175</td>\n",
       "    </tr>\n",
       "    <tr>\n",
       "      <th>1</th>\n",
       "      <td>1971</td>\n",
       "      <td>2345</td>\n",
       "      <td>8</td>\n",
       "      <td>280</td>\n",
       "    </tr>\n",
       "    <tr>\n",
       "      <th>2</th>\n",
       "      <td>1973</td>\n",
       "      <td>3010</td>\n",
       "      <td>12</td>\n",
       "      <td>420</td>\n",
       "    </tr>\n",
       "    <tr>\n",
       "      <th>3</th>\n",
       "      <td>1975</td>\n",
       "      <td>5215</td>\n",
       "      <td>14</td>\n",
       "      <td>490</td>\n",
       "    </tr>\n",
       "    <tr>\n",
       "      <th>4</th>\n",
       "      <td>1977</td>\n",
       "      <td>8260</td>\n",
       "      <td>21</td>\n",
       "      <td>735</td>\n",
       "    </tr>\n",
       "  </tbody>\n",
       "</table>\n",
       "</div>"
      ],
      "text/plain": [
       "  publication year  h5-index  symbolic count  h5_symbolic_count\n",
       "0             1969      2240               5                175\n",
       "1             1971      2345               8                280\n",
       "2             1973      3010              12                420\n",
       "3             1975      5215              14                490\n",
       "4             1977      8260              21                735"
      ]
     },
     "execution_count": 100,
     "metadata": {},
     "output_type": "execute_result"
    }
   ],
   "source": [
    "# calculate annual h5-score for symbolic papers\n",
    "words_symbolic = ['logic', 'planning', 'control']\n",
    "pattern = '|'.join(words_symbolic)\n",
    "symbolic2 = paper_title_year2[['words2', 'publication year', 'h5-index','conference']]\n",
    "symbolic2['symbolic count'] = (paper_title_year2['words2'].str.contains(pattern)).astype(int)\n",
    "symbolic2['h5_symbolic_count'] = symbolic2['h5-index'] * symbolic2['symbolic count']\n",
    "symbolic2_sum = symbolic2.groupby('publication year').sum().reset_index()\n",
    "symbolic2_sum.head()"
   ]
  },
  {
   "cell_type": "code",
   "execution_count": 101,
   "metadata": {},
   "outputs": [
    {
     "data": {
      "text/html": [
       "<div>\n",
       "<style scoped>\n",
       "    .dataframe tbody tr th:only-of-type {\n",
       "        vertical-align: middle;\n",
       "    }\n",
       "\n",
       "    .dataframe tbody tr th {\n",
       "        vertical-align: top;\n",
       "    }\n",
       "\n",
       "    .dataframe thead th {\n",
       "        text-align: right;\n",
       "    }\n",
       "</style>\n",
       "<table border=\"1\" class=\"dataframe\">\n",
       "  <thead>\n",
       "    <tr style=\"text-align: right;\">\n",
       "      <th></th>\n",
       "      <th>publication year</th>\n",
       "      <th>h5-index</th>\n",
       "      <th>symbolic count</th>\n",
       "      <th>h5_symbolic_count</th>\n",
       "      <th>h5_mean</th>\n",
       "    </tr>\n",
       "  </thead>\n",
       "  <tbody>\n",
       "    <tr>\n",
       "      <th>0</th>\n",
       "      <td>1969</td>\n",
       "      <td>35.0</td>\n",
       "      <td>0.078125</td>\n",
       "      <td>2.734375</td>\n",
       "      <td>35.0</td>\n",
       "    </tr>\n",
       "    <tr>\n",
       "      <th>1</th>\n",
       "      <td>1971</td>\n",
       "      <td>35.0</td>\n",
       "      <td>0.119403</td>\n",
       "      <td>4.179104</td>\n",
       "      <td>35.0</td>\n",
       "    </tr>\n",
       "    <tr>\n",
       "      <th>2</th>\n",
       "      <td>1973</td>\n",
       "      <td>35.0</td>\n",
       "      <td>0.139535</td>\n",
       "      <td>4.883721</td>\n",
       "      <td>35.0</td>\n",
       "    </tr>\n",
       "    <tr>\n",
       "      <th>3</th>\n",
       "      <td>1975</td>\n",
       "      <td>35.0</td>\n",
       "      <td>0.093960</td>\n",
       "      <td>3.288591</td>\n",
       "      <td>35.0</td>\n",
       "    </tr>\n",
       "    <tr>\n",
       "      <th>4</th>\n",
       "      <td>1977</td>\n",
       "      <td>35.0</td>\n",
       "      <td>0.088983</td>\n",
       "      <td>3.114407</td>\n",
       "      <td>35.0</td>\n",
       "    </tr>\n",
       "  </tbody>\n",
       "</table>\n",
       "</div>"
      ],
      "text/plain": [
       "  publication year  h5-index  symbolic count  h5_symbolic_count  h5_mean\n",
       "0             1969      35.0        0.078125           2.734375     35.0\n",
       "1             1971      35.0        0.119403           4.179104     35.0\n",
       "2             1973      35.0        0.139535           4.883721     35.0\n",
       "3             1975      35.0        0.093960           3.288591     35.0\n",
       "4             1977      35.0        0.088983           3.114407     35.0"
      ]
     },
     "execution_count": 101,
     "metadata": {},
     "output_type": "execute_result"
    }
   ],
   "source": [
    "# calculate annual average of h5 value for symbolic papers\n",
    "symbolic2_mean = symbolic2.groupby('publication year').mean().reset_index()\n",
    "symbolic2_mean['h5_mean'] = symbolic2_mean['h5_symbolic_count'] / symbolic2_mean['symbolic count']\n",
    "symbolic2_mean.head()"
   ]
  },
  {
   "cell_type": "code",
   "execution_count": 102,
   "metadata": {},
   "outputs": [
    {
     "data": {
      "text/html": [
       "<div>\n",
       "<style scoped>\n",
       "    .dataframe tbody tr th:only-of-type {\n",
       "        vertical-align: middle;\n",
       "    }\n",
       "\n",
       "    .dataframe tbody tr th {\n",
       "        vertical-align: top;\n",
       "    }\n",
       "\n",
       "    .dataframe thead th {\n",
       "        text-align: right;\n",
       "    }\n",
       "</style>\n",
       "<table border=\"1\" class=\"dataframe\">\n",
       "  <thead>\n",
       "    <tr style=\"text-align: right;\">\n",
       "      <th></th>\n",
       "      <th>publication year</th>\n",
       "      <th>h5-index</th>\n",
       "      <th>connectionist count</th>\n",
       "      <th>h5_connectionist_count</th>\n",
       "    </tr>\n",
       "  </thead>\n",
       "  <tbody>\n",
       "    <tr>\n",
       "      <th>0</th>\n",
       "      <td>1969</td>\n",
       "      <td>2240</td>\n",
       "      <td>4</td>\n",
       "      <td>140</td>\n",
       "    </tr>\n",
       "    <tr>\n",
       "      <th>1</th>\n",
       "      <td>1971</td>\n",
       "      <td>2345</td>\n",
       "      <td>0</td>\n",
       "      <td>0</td>\n",
       "    </tr>\n",
       "    <tr>\n",
       "      <th>2</th>\n",
       "      <td>1973</td>\n",
       "      <td>3010</td>\n",
       "      <td>1</td>\n",
       "      <td>35</td>\n",
       "    </tr>\n",
       "    <tr>\n",
       "      <th>3</th>\n",
       "      <td>1975</td>\n",
       "      <td>5215</td>\n",
       "      <td>7</td>\n",
       "      <td>245</td>\n",
       "    </tr>\n",
       "    <tr>\n",
       "      <th>4</th>\n",
       "      <td>1977</td>\n",
       "      <td>8260</td>\n",
       "      <td>9</td>\n",
       "      <td>315</td>\n",
       "    </tr>\n",
       "  </tbody>\n",
       "</table>\n",
       "</div>"
      ],
      "text/plain": [
       "  publication year  h5-index  connectionist count  h5_connectionist_count\n",
       "0             1969      2240                    4                     140\n",
       "1             1971      2345                    0                       0\n",
       "2             1973      3010                    1                      35\n",
       "3             1975      5215                    7                     245\n",
       "4             1977      8260                    9                     315"
      ]
     },
     "execution_count": 102,
     "metadata": {},
     "output_type": "execute_result"
    }
   ],
   "source": [
    "# calculate annual h5 score for connectioist papers\n",
    "words_connectionist = ['deep', 'learning', 'feature', 'bayesian']\n",
    "pattern = '|'.join(words_connectionist)\n",
    "connectionist2 = paper_title_year2[['words2', 'publication year','h5-index','conference']]\n",
    "connectionist2['connectionist count'] = (paper_title_year2['words2'].str.contains(pattern)).astype(int)\n",
    "connectionist2['h5_connectionist_count'] = connectionist2['h5-index'] * connectionist2['connectionist count']\n",
    "connectionist2_sum = connectionist2.groupby('publication year').sum().reset_index()\n",
    "connectionist2_sum.head()"
   ]
  },
  {
   "cell_type": "code",
   "execution_count": 103,
   "metadata": {},
   "outputs": [
    {
     "data": {
      "text/html": [
       "<div>\n",
       "<style scoped>\n",
       "    .dataframe tbody tr th:only-of-type {\n",
       "        vertical-align: middle;\n",
       "    }\n",
       "\n",
       "    .dataframe tbody tr th {\n",
       "        vertical-align: top;\n",
       "    }\n",
       "\n",
       "    .dataframe thead th {\n",
       "        text-align: right;\n",
       "    }\n",
       "</style>\n",
       "<table border=\"1\" class=\"dataframe\">\n",
       "  <thead>\n",
       "    <tr style=\"text-align: right;\">\n",
       "      <th></th>\n",
       "      <th>publication year</th>\n",
       "      <th>h5-index</th>\n",
       "      <th>connectionist count</th>\n",
       "      <th>h5_connectionist_count</th>\n",
       "      <th>h5_mean</th>\n",
       "    </tr>\n",
       "  </thead>\n",
       "  <tbody>\n",
       "    <tr>\n",
       "      <th>0</th>\n",
       "      <td>1969</td>\n",
       "      <td>35.0</td>\n",
       "      <td>0.062500</td>\n",
       "      <td>2.187500</td>\n",
       "      <td>35.0</td>\n",
       "    </tr>\n",
       "    <tr>\n",
       "      <th>1</th>\n",
       "      <td>1971</td>\n",
       "      <td>35.0</td>\n",
       "      <td>0.000000</td>\n",
       "      <td>0.000000</td>\n",
       "      <td>NaN</td>\n",
       "    </tr>\n",
       "    <tr>\n",
       "      <th>2</th>\n",
       "      <td>1973</td>\n",
       "      <td>35.0</td>\n",
       "      <td>0.011628</td>\n",
       "      <td>0.406977</td>\n",
       "      <td>35.0</td>\n",
       "    </tr>\n",
       "    <tr>\n",
       "      <th>3</th>\n",
       "      <td>1975</td>\n",
       "      <td>35.0</td>\n",
       "      <td>0.046980</td>\n",
       "      <td>1.644295</td>\n",
       "      <td>35.0</td>\n",
       "    </tr>\n",
       "    <tr>\n",
       "      <th>4</th>\n",
       "      <td>1977</td>\n",
       "      <td>35.0</td>\n",
       "      <td>0.038136</td>\n",
       "      <td>1.334746</td>\n",
       "      <td>35.0</td>\n",
       "    </tr>\n",
       "  </tbody>\n",
       "</table>\n",
       "</div>"
      ],
      "text/plain": [
       "  publication year  h5-index  connectionist count  h5_connectionist_count  \\\n",
       "0             1969      35.0             0.062500                2.187500   \n",
       "1             1971      35.0             0.000000                0.000000   \n",
       "2             1973      35.0             0.011628                0.406977   \n",
       "3             1975      35.0             0.046980                1.644295   \n",
       "4             1977      35.0             0.038136                1.334746   \n",
       "\n",
       "   h5_mean  \n",
       "0     35.0  \n",
       "1      NaN  \n",
       "2     35.0  \n",
       "3     35.0  \n",
       "4     35.0  "
      ]
     },
     "execution_count": 103,
     "metadata": {},
     "output_type": "execute_result"
    }
   ],
   "source": [
    "# calculate annual average of h5-index for connectionist papers\n",
    "connectionist2_mean = connectionist2.groupby('publication year').mean().reset_index()\n",
    "connectionist2_mean['h5_mean'] = connectionist2_mean['h5_connectionist_count'] / connectionist2_mean['connectionist count']\n",
    "connectionist2_mean.head()"
   ]
  },
  {
   "cell_type": "code",
   "execution_count": 104,
   "metadata": {},
   "outputs": [
    {
     "data": {
      "image/png": "[encoded data removed]",
      "text/plain": [
       "<Figure size 1440x720 with 1 Axes>"
      ]
     },
     "metadata": {
      "needs_background": "light"
     },
     "output_type": "display_data"
    }
   ],
   "source": [
    "# compare symbolic and connectionists\n",
    "plt.figure(figsize = (20, 10))\n",
    "plt.plot(symbolic_group_year['publication year'], symbolic_group_year['symbolic count'], label = 'symbolic')\n",
    "plt.plot(connectionist_group_year['publication year'], connectionist_group_year['connectionist count'], label = 'connectionist')\n",
    "plt.xlabel('publication year')\n",
    "plt.ylabel('number of papers')\n",
    "plt.title('Comparison of symbolic and connectionist every year (paper count)', fontsize = 16)\n",
    "plt.xticks(rotation = 60)\n",
    "plt.grid()\n",
    "plt.legend()\n",
    "plt.show()"
   ]
  },
  {
   "cell_type": "code",
   "execution_count": 106,
   "metadata": {},
   "outputs": [
    {
     "data": {
      "image/png": "[encoded data removed]",
      "text/plain": [
       "<Figure size 1440x720 with 1 Axes>"
      ]
     },
     "metadata": {
      "needs_background": "light"
     },
     "output_type": "display_data"
    }
   ],
   "source": [
    "# plot h5-score per year to compare the popularity of symbolic and connectionists\n",
    "plt.figure(figsize = (20, 10))\n",
    "plt.plot(symbolic2_sum['publication year'], symbolic2_sum['h5_symbolic_count'], label = 'symbolic')\n",
    "plt.plot(connectionist2_sum['publication year'], connectionist2_sum['h5_connectionist_count'], label = 'connectionist')\n",
    "plt.xlabel('publication year')\n",
    "plt.ylabel('sum of h5-index')\n",
    "plt.title('Comparison of symbolic and connectionist every year (h5 score)', fontsize = 16)\n",
    "plt.xticks(rotation = 60)\n",
    "plt.grid()\n",
    "plt.legend()\n",
    "plt.show()"
   ]
  },
  {
   "cell_type": "code",
   "execution_count": 108,
   "metadata": {},
   "outputs": [
    {
     "data": {
      "image/png": "[encoded data removed]",
      "text/plain": [
       "<Figure size 1440x720 with 1 Axes>"
      ]
     },
     "metadata": {
      "needs_background": "light"
     },
     "output_type": "display_data"
    }
   ],
   "source": [
    "# plot average h5 value per year to compare the popularity of symbolic and connectionists\n",
    "plt.figure(figsize = (20, 10))\n",
    "plt.plot(symbolic2_mean['publication year'], symbolic2_mean['h5_mean'], label = 'symbolic')\n",
    "plt.plot(connectionist2_mean['publication year'], connectionist2_mean['h5_mean'], label = 'connectionist')\n",
    "plt.xlabel('publication year')\n",
    "plt.ylabel('mean h5-score')\n",
    "plt.title('Comparison of symbolic and connectionist every year (mean h5 score)', fontsize = 16)\n",
    "plt.xticks(rotation = 60)\n",
    "plt.grid()\n",
    "plt.legend()\n",
    "plt.show()"
   ]
  },
  {
   "cell_type": "markdown",
   "metadata": {},
   "source": [
    "#### Explanation:\n",
    "1. Both the publication number plot and the h5-score plot show us similar result from which we can see that in the early stage (from 1990s to early 2000s) symbolic AI research dominates, meaning that more papers published at that time. However, in recent years, connectionist AI research overwhelming dominates over symbolic one. In addition, the gap of the number of publications becomes larger and larger by years.\n",
    "\n",
    "2. Average h5-score plot of symbolic papers is similar to the one of connectionist papers. This means that researcher put more enphasis on connectionist papers and resulting in higher average h5-score than symbolic papers' one.\n",
    "\n",
    "3. For us, according to the trend from the plot, we predict that connectionist AI research will become more popular than symbolic AI research. To be more specific, the difference between them will be enlarged in future years, making connectionist to be the mainstream of AI research."
   ]
  }
 ],
 "metadata": {
  "colab": {
   "collapsed_sections": [],
   "name": "Homework 1.ipynb",
   "provenance": []
  },
  "kernelspec": {
   "display_name": "Python 3",
   "language": "python",
   "name": "python3"
  },
  "language_info": {
   "codemirror_mode": {
    "name": "ipython",
    "version": 3
   },
   "file_extension": ".py",
   "mimetype": "text/x-python",
   "name": "python",
   "nbconvert_exporter": "python",
   "pygments_lexer": "ipython3",
   "version": "3.7.3"
  },
  "toc": {
   "base_numbering": 1,
   "nav_menu": {},
   "number_sections": false,
   "sideBar": true,
   "skip_h1_title": true,
   "title_cell": "Table of Contents",
   "title_sidebar": "Contents",
   "toc_cell": false,
   "toc_position": {},
   "toc_section_display": true,
   "toc_window_display": false
  }
 },
 "nbformat": 4,
 "nbformat_minor": 4
}
